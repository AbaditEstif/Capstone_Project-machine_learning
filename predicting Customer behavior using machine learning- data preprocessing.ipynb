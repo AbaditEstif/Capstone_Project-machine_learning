{
 "cells": [
  {
   "cell_type": "markdown",
   "id": "5080eb20",
   "metadata": {},
   "source": [
    "#  <font color=blue> ****Predicting Customer Behavior using machine learning algorithms**** </font>"
   ]
  },
  {
   "cell_type": "markdown",
   "id": "02dab483",
   "metadata": {},
   "source": [
    "## Introduction\n"
   ]
  },
  {
   "cell_type": "markdown",
   "id": "141bb3a0",
   "metadata": {},
   "source": [
    "Customer behavior analysis is crucial for businesses to better understand their customers' needs, preferences, and buying patterns. This understanding enables marketing teams to tailor their strategies more effectively, ensuring efficient outreach, increased customer satisfaction, and enhanced marketing strategies. Machine learning and predictive analysis are essential tools for uncovering insights from vast amounts of data, helping businesses identify customer needs and behavior trends. With the growing availability of customer data from sources like online transactions, social media, and customer service interactions, traditional analysis methods are becoming insufficient. As businesses struggle to extract meaningful insights, they face missed opportunities and inefficiencies in targeting and customer engagement efforts."
   ]
  },
  {
   "cell_type": "markdown",
   "id": "7c56f0cf",
   "metadata": {},
   "source": [
    "## Challenges"
   ]
  },
  {
   "cell_type": "markdown",
   "id": "9e53dc82",
   "metadata": {},
   "source": [
    "With the overwhelming volume of customer data, businesses face challenges in effectively harnessing this information to drive strategies. Traditional analysis methods fall short when it comes to analyzing the vast datasets now available. The main challenges include:\n",
    "\n",
    "Extracting meaningful insights from large datasets to uncover key behavioral patterns and trends.\n",
    "Missed opportunities due to the inability to fully leverage data for targeted marketing and customer engagement.\n",
    "Inefficiencies in resource allocation because of limited insight into customer segmentation and responsiveness."
   ]
  },
  {
   "cell_type": "markdown",
   "id": "cf2020f3",
   "metadata": {},
   "source": [
    "## Objective "
   ]
  },
  {
   "cell_type": "markdown",
   "id": "55cb445d",
   "metadata": {},
   "source": [
    " An automobile company has plans to enter new markets with their existing products and after intensive market research, they’ve realized that the behavior of the new market is like their existing market. In their existing market, the sales team has classified all customers into 4 segments (A, B, C, D). Then, they performed segmented outreach and communication for a different segment of customers. This strategy has worked exceptionally well for them. Accordingly, they plan to use the same strategy for the new markets.The objective of the project is to predict the appropriate customer segments(A,B,C,D ) in a new market based on the existing market behavior by leveraging  machine learning techniques thus hepls:\n",
    "\n",
    " -\tPersonalized marketing:   help the sales team to create highly targeted marketing campaigns focused on the interest and behaviors of specific customer groups, leading to a more satisfying customer experience\n",
    " \n",
    " -\tEfficient resource allocation:  business can focus their marketing, sales, and product development effort on segments that respond positively which maximize revenue\n",
    " \n",
    " -\tIncrease customer retention:  by meeting the specific needs of each segment business can build relationships with customers, increasing loyalty and reducing churn "
   ]
  },
  {
   "cell_type": "markdown",
   "id": "0862535c",
   "metadata": {},
   "source": [
    "## Dataset and Data fields :\n"
   ]
  },
  {
   "cell_type": "markdown",
   "id": "83f42f5f",
   "metadata": {},
   "source": [
    "The dataset includes information on customers in the existing market , with fields age, gender , martial status, education , profession , work experience , family size, spending score and de-idenified categories. "
   ]
  },
  {
   "cell_type": "markdown",
   "id": "c953774a",
   "metadata": {},
   "source": [
    "## Import Necessary libraries"
   ]
  },
  {
   "cell_type": "code",
   "execution_count": 131,
   "id": "ec6a2e19",
   "metadata": {},
   "outputs": [
    {
     "data": {
      "text/plain": [
       "<Figure size 1500x800 with 0 Axes>"
      ]
     },
     "metadata": {},
     "output_type": "display_data"
    }
   ],
   "source": [
    "import pandas as pd # data processing , csv file(e.g. pd.read_s-csv)\n",
    "import numpy as np  # linear algebra\n",
    "import seaborn as sns # data visualization\n",
    "import matplotlib.pyplot as plt # data visualization \n",
    "import plotly.express as px\n",
    "import plotly.io as pio\n",
    "import plotly.graph_objs as go  # data visualization\n",
    "from plotly import tools\n",
    "from plotly.subplots import make_subplots\n",
    "from  sklearn.impute import SimpleImputer\n",
    "from sklearn.preprocessing import OrdinalEncoder\n",
    "from sklearn.preprocessing import LabelEncoder\n",
    "from sklearn.model_selection import train_test_split, GridSearchCV,cross_val_score\n",
    "from sklearn.preprocessing  import StandardScaler\n",
    "from sklearn.ensemble import RandomForestClassifier\n",
    "from sklearn.model_selection import GridSearchCV\n",
    "from sklearn.model_selection import RandomizedSearchCV\n",
    "from sklearn.svm import SVC\n",
    "from sklearn.neighbors import KNeighborsClassifier\n",
    "from sklearn.tree import DecisionTreeClassifier\n",
    "from sklearn.linear_model import LogisticRegression\n",
    "from sklearn import metrics\n",
    "from sklearn.metrics import accuracy_score, confusion_matrix, classification_report, ConfusionMatrixDisplay\n",
    "from  sklearn.feature_selection import mutual_info_classif\n",
    "import ipywidgets as widgets\n",
    "import streamlit as st\n",
    "\n",
    "\n",
    "plt.figure(figsize=(15,8))\n",
    "sns.set(rc={'figure.figsize':(12,6)})\n"
   ]
  },
  {
   "cell_type": "markdown",
   "id": "0bcc660e",
   "metadata": {},
   "source": [
    "## Loading and Preprocessing the data"
   ]
  },
  {
   "cell_type": "code",
   "execution_count": 132,
   "id": "3aae95ec",
   "metadata": {},
   "outputs": [],
   "source": [
    "train = pd.read_csv(\"https://raw.githubusercontent.com/AbaditEstif/machine_learning/main/Train.csv\")\n",
    "test= pd.read_csv(\"https://raw.githubusercontent.com/AbaditEstif/machine_learning/main/Test.csv\")"
   ]
  },
  {
   "cell_type": "code",
   "execution_count": 133,
   "id": "038e3fc7",
   "metadata": {},
   "outputs": [
    {
     "data": {
      "text/plain": [
       "(8068, 11)"
      ]
     },
     "execution_count": 133,
     "metadata": {},
     "output_type": "execute_result"
    }
   ],
   "source": [
    "train.shape"
   ]
  },
  {
   "cell_type": "code",
   "execution_count": 134,
   "id": "af8afccf",
   "metadata": {},
   "outputs": [
    {
     "data": {
      "text/plain": [
       "0"
      ]
     },
     "execution_count": 134,
     "metadata": {},
     "output_type": "execute_result"
    }
   ],
   "source": [
    "train.duplicated().sum()"
   ]
  },
  {
   "cell_type": "code",
   "execution_count": 135,
   "id": "b186bb32",
   "metadata": {},
   "outputs": [
    {
     "data": {
      "text/plain": [
       "(2627, 11)"
      ]
     },
     "execution_count": 135,
     "metadata": {},
     "output_type": "execute_result"
    }
   ],
   "source": [
    "test.shape"
   ]
  },
  {
   "cell_type": "code",
   "execution_count": 136,
   "id": "c88a4bfc",
   "metadata": {},
   "outputs": [
    {
     "data": {
      "text/plain": [
       "0"
      ]
     },
     "execution_count": 136,
     "metadata": {},
     "output_type": "execute_result"
    }
   ],
   "source": [
    "test.duplicated().sum()"
   ]
  },
  {
   "cell_type": "code",
   "execution_count": 137,
   "id": "59c897fe",
   "metadata": {},
   "outputs": [],
   "source": [
    "# Concatenate both train and test datasets\n",
    "\n",
    "\n",
    "data = pd.concat([train,test])"
   ]
  },
  {
   "cell_type": "markdown",
   "id": "d66741ed",
   "metadata": {},
   "source": [
    "### Data understanding "
   ]
  },
  {
   "cell_type": "markdown",
   "id": "3077f9c3",
   "metadata": {},
   "source": [
    "My aim is to observe and study the categorical and numerical features of the dataset. by examining the unique value counts. I can understand the distribution and quality of the data and can get insights about the quality of the data,potential issues such as duplicates , imbalances and missing values."
   ]
  },
  {
   "cell_type": "code",
   "execution_count": 138,
   "id": "40e0db25",
   "metadata": {},
   "outputs": [
    {
     "name": "stdout",
     "output_type": "stream",
     "text": [
      "Number of rows: 10695\n"
     ]
    },
    {
     "data": {
      "text/html": [
       "<div>\n",
       "<style scoped>\n",
       "    .dataframe tbody tr th:only-of-type {\n",
       "        vertical-align: middle;\n",
       "    }\n",
       "\n",
       "    .dataframe tbody tr th {\n",
       "        vertical-align: top;\n",
       "    }\n",
       "\n",
       "    .dataframe thead th {\n",
       "        text-align: right;\n",
       "    }\n",
       "</style>\n",
       "<table border=\"1\" class=\"dataframe\">\n",
       "  <thead>\n",
       "    <tr style=\"text-align: right;\">\n",
       "      <th></th>\n",
       "      <th>ID</th>\n",
       "      <th>Gender</th>\n",
       "      <th>Ever_Married</th>\n",
       "      <th>Age</th>\n",
       "      <th>Graduated</th>\n",
       "      <th>Profession</th>\n",
       "      <th>Work_Experience</th>\n",
       "      <th>Spending_Score</th>\n",
       "      <th>Family_Size</th>\n",
       "      <th>Var_1</th>\n",
       "      <th>Segmentation</th>\n",
       "    </tr>\n",
       "  </thead>\n",
       "  <tbody>\n",
       "    <tr>\n",
       "      <th>0</th>\n",
       "      <td>462809</td>\n",
       "      <td>Male</td>\n",
       "      <td>No</td>\n",
       "      <td>22</td>\n",
       "      <td>No</td>\n",
       "      <td>Healthcare</td>\n",
       "      <td>1.0</td>\n",
       "      <td>Low</td>\n",
       "      <td>4.0</td>\n",
       "      <td>Cat_4</td>\n",
       "      <td>D</td>\n",
       "    </tr>\n",
       "    <tr>\n",
       "      <th>1</th>\n",
       "      <td>462643</td>\n",
       "      <td>Female</td>\n",
       "      <td>Yes</td>\n",
       "      <td>38</td>\n",
       "      <td>Yes</td>\n",
       "      <td>Engineer</td>\n",
       "      <td>NaN</td>\n",
       "      <td>Average</td>\n",
       "      <td>3.0</td>\n",
       "      <td>Cat_4</td>\n",
       "      <td>A</td>\n",
       "    </tr>\n",
       "    <tr>\n",
       "      <th>2</th>\n",
       "      <td>466315</td>\n",
       "      <td>Female</td>\n",
       "      <td>Yes</td>\n",
       "      <td>67</td>\n",
       "      <td>Yes</td>\n",
       "      <td>Engineer</td>\n",
       "      <td>1.0</td>\n",
       "      <td>Low</td>\n",
       "      <td>1.0</td>\n",
       "      <td>Cat_6</td>\n",
       "      <td>B</td>\n",
       "    </tr>\n",
       "    <tr>\n",
       "      <th>3</th>\n",
       "      <td>461735</td>\n",
       "      <td>Male</td>\n",
       "      <td>Yes</td>\n",
       "      <td>67</td>\n",
       "      <td>Yes</td>\n",
       "      <td>Lawyer</td>\n",
       "      <td>0.0</td>\n",
       "      <td>High</td>\n",
       "      <td>2.0</td>\n",
       "      <td>Cat_6</td>\n",
       "      <td>B</td>\n",
       "    </tr>\n",
       "    <tr>\n",
       "      <th>4</th>\n",
       "      <td>462669</td>\n",
       "      <td>Female</td>\n",
       "      <td>Yes</td>\n",
       "      <td>40</td>\n",
       "      <td>Yes</td>\n",
       "      <td>Entertainment</td>\n",
       "      <td>NaN</td>\n",
       "      <td>High</td>\n",
       "      <td>6.0</td>\n",
       "      <td>Cat_6</td>\n",
       "      <td>A</td>\n",
       "    </tr>\n",
       "    <tr>\n",
       "      <th>5</th>\n",
       "      <td>461319</td>\n",
       "      <td>Male</td>\n",
       "      <td>Yes</td>\n",
       "      <td>56</td>\n",
       "      <td>No</td>\n",
       "      <td>Artist</td>\n",
       "      <td>0.0</td>\n",
       "      <td>Average</td>\n",
       "      <td>2.0</td>\n",
       "      <td>Cat_6</td>\n",
       "      <td>C</td>\n",
       "    </tr>\n",
       "    <tr>\n",
       "      <th>6</th>\n",
       "      <td>460156</td>\n",
       "      <td>Male</td>\n",
       "      <td>No</td>\n",
       "      <td>32</td>\n",
       "      <td>Yes</td>\n",
       "      <td>Healthcare</td>\n",
       "      <td>1.0</td>\n",
       "      <td>Low</td>\n",
       "      <td>3.0</td>\n",
       "      <td>Cat_6</td>\n",
       "      <td>C</td>\n",
       "    </tr>\n",
       "    <tr>\n",
       "      <th>7</th>\n",
       "      <td>464347</td>\n",
       "      <td>Female</td>\n",
       "      <td>No</td>\n",
       "      <td>33</td>\n",
       "      <td>Yes</td>\n",
       "      <td>Healthcare</td>\n",
       "      <td>1.0</td>\n",
       "      <td>Low</td>\n",
       "      <td>3.0</td>\n",
       "      <td>Cat_6</td>\n",
       "      <td>D</td>\n",
       "    </tr>\n",
       "    <tr>\n",
       "      <th>8</th>\n",
       "      <td>465015</td>\n",
       "      <td>Female</td>\n",
       "      <td>Yes</td>\n",
       "      <td>61</td>\n",
       "      <td>Yes</td>\n",
       "      <td>Engineer</td>\n",
       "      <td>0.0</td>\n",
       "      <td>Low</td>\n",
       "      <td>3.0</td>\n",
       "      <td>Cat_7</td>\n",
       "      <td>D</td>\n",
       "    </tr>\n",
       "    <tr>\n",
       "      <th>9</th>\n",
       "      <td>465176</td>\n",
       "      <td>Female</td>\n",
       "      <td>Yes</td>\n",
       "      <td>55</td>\n",
       "      <td>Yes</td>\n",
       "      <td>Artist</td>\n",
       "      <td>1.0</td>\n",
       "      <td>Average</td>\n",
       "      <td>4.0</td>\n",
       "      <td>Cat_6</td>\n",
       "      <td>C</td>\n",
       "    </tr>\n",
       "  </tbody>\n",
       "</table>\n",
       "</div>"
      ],
      "text/plain": [
       "       ID  Gender Ever_Married  Age Graduated     Profession  Work_Experience  \\\n",
       "0  462809    Male           No   22        No     Healthcare              1.0   \n",
       "1  462643  Female          Yes   38       Yes       Engineer              NaN   \n",
       "2  466315  Female          Yes   67       Yes       Engineer              1.0   \n",
       "3  461735    Male          Yes   67       Yes         Lawyer              0.0   \n",
       "4  462669  Female          Yes   40       Yes  Entertainment              NaN   \n",
       "5  461319    Male          Yes   56        No         Artist              0.0   \n",
       "6  460156    Male           No   32       Yes     Healthcare              1.0   \n",
       "7  464347  Female           No   33       Yes     Healthcare              1.0   \n",
       "8  465015  Female          Yes   61       Yes       Engineer              0.0   \n",
       "9  465176  Female          Yes   55       Yes         Artist              1.0   \n",
       "\n",
       "  Spending_Score  Family_Size  Var_1 Segmentation  \n",
       "0            Low          4.0  Cat_4            D  \n",
       "1        Average          3.0  Cat_4            A  \n",
       "2            Low          1.0  Cat_6            B  \n",
       "3           High          2.0  Cat_6            B  \n",
       "4           High          6.0  Cat_6            A  \n",
       "5        Average          2.0  Cat_6            C  \n",
       "6            Low          3.0  Cat_6            C  \n",
       "7            Low          3.0  Cat_6            D  \n",
       "8            Low          3.0  Cat_7            D  \n",
       "9        Average          4.0  Cat_6            C  "
      ]
     },
     "execution_count": 138,
     "metadata": {},
     "output_type": "execute_result"
    }
   ],
   "source": [
    "print(\"Number of rows:\", len(data))\n",
    "data.head(10)"
   ]
  },
  {
   "cell_type": "code",
   "execution_count": 139,
   "id": "ce00150f",
   "metadata": {},
   "outputs": [
    {
     "name": "stdout",
     "output_type": "stream",
     "text": [
      "<class 'pandas.core.frame.DataFrame'>\n",
      "Int64Index: 10695 entries, 0 to 2626\n",
      "Data columns (total 11 columns):\n",
      " #   Column           Non-Null Count  Dtype  \n",
      "---  ------           --------------  -----  \n",
      " 0   ID               10695 non-null  int64  \n",
      " 1   Gender           10695 non-null  object \n",
      " 2   Ever_Married     10505 non-null  object \n",
      " 3   Age              10695 non-null  int64  \n",
      " 4   Graduated        10593 non-null  object \n",
      " 5   Profession       10533 non-null  object \n",
      " 6   Work_Experience  9597 non-null   float64\n",
      " 7   Spending_Score   10695 non-null  object \n",
      " 8   Family_Size      10247 non-null  float64\n",
      " 9   Var_1            10587 non-null  object \n",
      " 10  Segmentation     10695 non-null  object \n",
      "dtypes: float64(2), int64(2), object(7)\n",
      "memory usage: 1002.7+ KB\n"
     ]
    }
   ],
   "source": [
    "data.info()"
   ]
  },
  {
   "cell_type": "code",
   "execution_count": 140,
   "id": "f89af619",
   "metadata": {},
   "outputs": [
    {
     "data": {
      "text/plain": [
       "(10695, 11)"
      ]
     },
     "execution_count": 140,
     "metadata": {},
     "output_type": "execute_result"
    }
   ],
   "source": [
    "data.shape"
   ]
  },
  {
   "cell_type": "code",
   "execution_count": 141,
   "id": "72a4787a",
   "metadata": {},
   "outputs": [],
   "source": [
    "# les rename Var_1 column for better understanding \n",
    "\n",
    "data= data.rename(columns={\"Var_1\":\"Category\"})"
   ]
  },
  {
   "cell_type": "code",
   "execution_count": 142,
   "id": "de48ee64",
   "metadata": {},
   "outputs": [
    {
     "name": "stdout",
     "output_type": "stream",
     "text": [
      "Gender: ['Male' 'Female']\n",
      "Ever_Maried: ['No' 'Yes' nan]\n",
      "Graduated: ['No' 'Yes' nan]\n",
      "Spending_Score: ['Low' 'Average' 'High']\n",
      "Profession: ['Healthcare' 'Engineer' 'Lawyer' 'Entertainment' 'Artist' 'Executive'\n",
      " 'Doctor' 'Homemaker' 'Marketing' nan]\n",
      "Segmentation: ['D' 'A' 'B' 'C']\n",
      "Category: ['Cat_4' 'Cat_6' 'Cat_7' 'Cat_3' 'Cat_1' 'Cat_2' nan 'Cat_5']\n"
     ]
    }
   ],
   "source": [
    "# Checking for misspelled or unsual values in columns\n",
    "\n",
    "\n",
    "print(\"Gender:\", data['Gender'].unique())\n",
    "print(\"Ever_Maried:\", data['Ever_Married'].unique())\n",
    "print(\"Graduated:\", data['Graduated'].unique())\n",
    "print(\"Spending_Score:\", data['Spending_Score'].unique())\n",
    "print(\"Profession:\", data['Profession'].unique())\n",
    "print(\"Segmentation:\", data['Segmentation'].unique())\n",
    "print(\"Category:\", data['Category'].unique())\n",
    "\n",
    "\n"
   ]
  },
  {
   "cell_type": "markdown",
   "id": "1634ef35",
   "metadata": {},
   "source": [
    "### Statistical Analysis"
   ]
  },
  {
   "cell_type": "markdown",
   "id": "354db082",
   "metadata": {},
   "source": [
    "we will use data.describe(), which will give a descriptive overview of the dataset"
   ]
  },
  {
   "cell_type": "code",
   "execution_count": 143,
   "id": "7f94ff47",
   "metadata": {},
   "outputs": [
    {
     "data": {
      "text/html": [
       "<style type=\"text/css\">\n",
       "#T_ceb9b_row0_col0 {\n",
       "  background-color: #fff3e7;\n",
       "  color: #000000;\n",
       "}\n",
       "#T_ceb9b_row0_col1, #T_ceb9b_row0_col2, #T_ceb9b_row0_col3, #T_ceb9b_row7_col0 {\n",
       "  background-color: #7f2704;\n",
       "  color: #f1f1f1;\n",
       "}\n",
       "#T_ceb9b_row1_col0, #T_ceb9b_row5_col0 {\n",
       "  background-color: #812804;\n",
       "  color: #f1f1f1;\n",
       "}\n",
       "#T_ceb9b_row1_col1, #T_ceb9b_row1_col2, #T_ceb9b_row1_col3, #T_ceb9b_row2_col0, #T_ceb9b_row2_col1, #T_ceb9b_row2_col2, #T_ceb9b_row2_col3, #T_ceb9b_row3_col1, #T_ceb9b_row3_col2, #T_ceb9b_row3_col3, #T_ceb9b_row4_col1, #T_ceb9b_row4_col2, #T_ceb9b_row4_col3, #T_ceb9b_row5_col1, #T_ceb9b_row5_col2, #T_ceb9b_row5_col3, #T_ceb9b_row6_col1, #T_ceb9b_row6_col2, #T_ceb9b_row6_col3, #T_ceb9b_row7_col2, #T_ceb9b_row7_col3 {\n",
       "  background-color: #fff5eb;\n",
       "  color: #000000;\n",
       "}\n",
       "#T_ceb9b_row3_col0 {\n",
       "  background-color: #842904;\n",
       "  color: #f1f1f1;\n",
       "}\n",
       "#T_ceb9b_row4_col0 {\n",
       "  background-color: #832804;\n",
       "  color: #f1f1f1;\n",
       "}\n",
       "#T_ceb9b_row6_col0 {\n",
       "  background-color: #802704;\n",
       "  color: #f1f1f1;\n",
       "}\n",
       "#T_ceb9b_row7_col1 {\n",
       "  background-color: #fff5ea;\n",
       "  color: #000000;\n",
       "}\n",
       "</style>\n",
       "<table id=\"T_ceb9b\">\n",
       "  <thead>\n",
       "    <tr>\n",
       "      <th class=\"blank level0\" >&nbsp;</th>\n",
       "      <th id=\"T_ceb9b_level0_col0\" class=\"col_heading level0 col0\" >ID</th>\n",
       "      <th id=\"T_ceb9b_level0_col1\" class=\"col_heading level0 col1\" >Age</th>\n",
       "      <th id=\"T_ceb9b_level0_col2\" class=\"col_heading level0 col2\" >Work_Experience</th>\n",
       "      <th id=\"T_ceb9b_level0_col3\" class=\"col_heading level0 col3\" >Family_Size</th>\n",
       "    </tr>\n",
       "  </thead>\n",
       "  <tbody>\n",
       "    <tr>\n",
       "      <th id=\"T_ceb9b_level0_row0\" class=\"row_heading level0 row0\" >count</th>\n",
       "      <td id=\"T_ceb9b_row0_col0\" class=\"data row0 col0\" >10695.000000</td>\n",
       "      <td id=\"T_ceb9b_row0_col1\" class=\"data row0 col1\" >10695.000000</td>\n",
       "      <td id=\"T_ceb9b_row0_col2\" class=\"data row0 col2\" >9597.000000</td>\n",
       "      <td id=\"T_ceb9b_row0_col3\" class=\"data row0 col3\" >10247.000000</td>\n",
       "    </tr>\n",
       "    <tr>\n",
       "      <th id=\"T_ceb9b_level0_row1\" class=\"row_heading level0 row1\" >mean</th>\n",
       "      <td id=\"T_ceb9b_row1_col0\" class=\"data row1 col0\" >463468.088640</td>\n",
       "      <td id=\"T_ceb9b_row1_col1\" class=\"data row1 col1\" >43.511828</td>\n",
       "      <td id=\"T_ceb9b_row1_col2\" class=\"data row1 col2\" >2.619777</td>\n",
       "      <td id=\"T_ceb9b_row1_col3\" class=\"data row1 col3\" >2.844052</td>\n",
       "    </tr>\n",
       "    <tr>\n",
       "      <th id=\"T_ceb9b_level0_row2\" class=\"row_heading level0 row2\" >std</th>\n",
       "      <td id=\"T_ceb9b_row2_col0\" class=\"data row2 col0\" >2600.966411</td>\n",
       "      <td id=\"T_ceb9b_row2_col1\" class=\"data row2 col1\" >16.774158</td>\n",
       "      <td id=\"T_ceb9b_row2_col2\" class=\"data row2 col2\" >3.390790</td>\n",
       "      <td id=\"T_ceb9b_row2_col3\" class=\"data row2 col3\" >1.536427</td>\n",
       "    </tr>\n",
       "    <tr>\n",
       "      <th id=\"T_ceb9b_level0_row3\" class=\"row_heading level0 row3\" >min</th>\n",
       "      <td id=\"T_ceb9b_row3_col0\" class=\"data row3 col0\" >458982.000000</td>\n",
       "      <td id=\"T_ceb9b_row3_col1\" class=\"data row3 col1\" >18.000000</td>\n",
       "      <td id=\"T_ceb9b_row3_col2\" class=\"data row3 col2\" >0.000000</td>\n",
       "      <td id=\"T_ceb9b_row3_col3\" class=\"data row3 col3\" >1.000000</td>\n",
       "    </tr>\n",
       "    <tr>\n",
       "      <th id=\"T_ceb9b_level0_row4\" class=\"row_heading level0 row4\" >25%</th>\n",
       "      <td id=\"T_ceb9b_row4_col0\" class=\"data row4 col0\" >461220.500000</td>\n",
       "      <td id=\"T_ceb9b_row4_col1\" class=\"data row4 col1\" >30.000000</td>\n",
       "      <td id=\"T_ceb9b_row4_col2\" class=\"data row4 col2\" >0.000000</td>\n",
       "      <td id=\"T_ceb9b_row4_col3\" class=\"data row4 col3\" >2.000000</td>\n",
       "    </tr>\n",
       "    <tr>\n",
       "      <th id=\"T_ceb9b_level0_row5\" class=\"row_heading level0 row5\" >50%</th>\n",
       "      <td id=\"T_ceb9b_row5_col0\" class=\"data row5 col0\" >463451.000000</td>\n",
       "      <td id=\"T_ceb9b_row5_col1\" class=\"data row5 col1\" >41.000000</td>\n",
       "      <td id=\"T_ceb9b_row5_col2\" class=\"data row5 col2\" >1.000000</td>\n",
       "      <td id=\"T_ceb9b_row5_col3\" class=\"data row5 col3\" >3.000000</td>\n",
       "    </tr>\n",
       "    <tr>\n",
       "      <th id=\"T_ceb9b_level0_row6\" class=\"row_heading level0 row6\" >75%</th>\n",
       "      <td id=\"T_ceb9b_row6_col0\" class=\"data row6 col0\" >465733.500000</td>\n",
       "      <td id=\"T_ceb9b_row6_col1\" class=\"data row6 col1\" >53.000000</td>\n",
       "      <td id=\"T_ceb9b_row6_col2\" class=\"data row6 col2\" >4.000000</td>\n",
       "      <td id=\"T_ceb9b_row6_col3\" class=\"data row6 col3\" >4.000000</td>\n",
       "    </tr>\n",
       "    <tr>\n",
       "      <th id=\"T_ceb9b_level0_row7\" class=\"row_heading level0 row7\" >max</th>\n",
       "      <td id=\"T_ceb9b_row7_col0\" class=\"data row7 col0\" >467974.000000</td>\n",
       "      <td id=\"T_ceb9b_row7_col1\" class=\"data row7 col1\" >89.000000</td>\n",
       "      <td id=\"T_ceb9b_row7_col2\" class=\"data row7 col2\" >14.000000</td>\n",
       "      <td id=\"T_ceb9b_row7_col3\" class=\"data row7 col3\" >9.000000</td>\n",
       "    </tr>\n",
       "  </tbody>\n",
       "</table>\n"
      ],
      "text/plain": [
       "<pandas.io.formats.style.Styler at 0x1a14f1a97d0>"
      ]
     },
     "execution_count": 143,
     "metadata": {},
     "output_type": "execute_result"
    }
   ],
   "source": [
    " # describe Numerical features\n",
    "    \n",
    "num_data= data.describe()\n",
    "num_data.style.background_gradient(cmap='Oranges')\n",
    "\n"
   ]
  },
  {
   "cell_type": "markdown",
   "id": "4100137a",
   "metadata": {},
   "source": [
    "The above table shows the count,mean standard deviation,min,25%,50%,75% and max values for each column and we can observe that:\n",
    "- customer age ranges from 18 to  89 years old with mean of 43.5\n",
    "- works experience ranges from 0 to 14 year with mean of 2.64\n",
    "- family size ranges from 1 to 9 with  mean of 2.84\n"
   ]
  },
  {
   "cell_type": "code",
   "execution_count": 144,
   "id": "166dfae6",
   "metadata": {},
   "outputs": [
    {
     "data": {
      "text/plain": [
       "38"
      ]
     },
     "execution_count": 144,
     "metadata": {},
     "output_type": "execute_result"
    }
   ],
   "source": [
    "data.duplicated().sum()"
   ]
  },
  {
   "cell_type": "code",
   "execution_count": 145,
   "id": "090e5d37",
   "metadata": {},
   "outputs": [
    {
     "data": {
      "text/plain": [
       "Index(['ID', 'Gender', 'Ever_Married', 'Age', 'Graduated', 'Profession',\n",
       "       'Work_Experience', 'Spending_Score', 'Family_Size', 'Category',\n",
       "       'Segmentation'],\n",
       "      dtype='object')"
      ]
     },
     "execution_count": 145,
     "metadata": {},
     "output_type": "execute_result"
    }
   ],
   "source": [
    "data.columns"
   ]
  },
  {
   "cell_type": "code",
   "execution_count": 146,
   "id": "32694bf1",
   "metadata": {},
   "outputs": [
    {
     "data": {
      "text/plain": [
       "35    321\n",
       "42    320\n",
       "37    304\n",
       "43    301\n",
       "40    300\n",
       "     ... \n",
       "75     37\n",
       "78     36\n",
       "76     36\n",
       "80     33\n",
       "85     32\n",
       "Name: Age, Length: 67, dtype: int64"
      ]
     },
     "execution_count": 146,
     "metadata": {},
     "output_type": "execute_result"
    }
   ],
   "source": [
    "data['Age'].value_counts( dropna= False)"
   ]
  },
  {
   "cell_type": "code",
   "execution_count": 147,
   "id": "6d16137a",
   "metadata": {},
   "outputs": [
    {
     "data": {
      "text/plain": [
       "array([22, 38, 67, 40, 56, 32, 33, 61, 55, 26, 19, 70, 58, 41, 31, 79, 49,\n",
       "       18, 36, 35, 45, 42, 83, 27, 28, 47, 29, 57, 76, 25, 72, 48, 74, 59,\n",
       "       39, 51, 30, 63, 52, 60, 68, 86, 50, 43, 80, 37, 46, 69, 78, 71, 82,\n",
       "       23, 20, 85, 21, 53, 62, 75, 65, 89, 66, 73, 77, 87, 84, 81, 88],\n",
       "      dtype=int64)"
      ]
     },
     "execution_count": 147,
     "metadata": {},
     "output_type": "execute_result"
    }
   ],
   "source": [
    "data['Age'].unique()"
   ]
  },
  {
   "cell_type": "code",
   "execution_count": 148,
   "id": "fe92b8bf",
   "metadata": {},
   "outputs": [
    {
     "name": "stdout",
     "output_type": "stream",
     "text": [
      "Gender: Male      5841\n",
      "Female    4854\n",
      "Name: Gender, dtype: int64\n",
      "Graduated: Yes    6570\n",
      "No     4023\n",
      "NaN     102\n",
      "Name: Graduated, dtype: int64\n",
      "Spending_Score: Low        6494\n",
      "Average    2599\n",
      "High       1602\n",
      "Name: Spending_Score, dtype: int64\n"
     ]
    }
   ],
   "source": [
    "print(\"Gender:\", data['Gender'].value_counts( dropna= False)),'\\n',\n",
    "\n",
    "print(\"Graduated:\", data['Graduated'].value_counts( dropna= False)),'\\n',\n",
    "\n",
    "print(\"Spending_Score:\", data['Spending_Score'].value_counts( dropna= False))\n"
   ]
  },
  {
   "cell_type": "code",
   "execution_count": 149,
   "id": "76bf96c2",
   "metadata": {},
   "outputs": [
    {
     "data": {
      "text/plain": [
       "Artist           3318\n",
       "Healthcare       1750\n",
       "Entertainment    1250\n",
       "Engineer          935\n",
       "Doctor            930\n",
       "Lawyer            844\n",
       "Executive         775\n",
       "Marketing         403\n",
       "Homemaker         328\n",
       "NaN               162\n",
       "Name: Profession, dtype: int64"
      ]
     },
     "execution_count": 149,
     "metadata": {},
     "output_type": "execute_result"
    }
   ],
   "source": [
    "data['Profession'].value_counts(dropna=False)"
   ]
  },
  {
   "cell_type": "code",
   "execution_count": 150,
   "id": "a9ad9eb0",
   "metadata": {},
   "outputs": [
    {
     "data": {
      "text/plain": [
       "1.0     3127\n",
       "0.0     3087\n",
       "NaN     1098\n",
       "9.0      613\n",
       "8.0      612\n",
       "2.0      373\n",
       "4.0      346\n",
       "3.0      337\n",
       "5.0      270\n",
       "6.0      265\n",
       "7.0      256\n",
       "14.0      66\n",
       "10.0      64\n",
       "11.0      64\n",
       "12.0      60\n",
       "13.0      57\n",
       "Name: Work_Experience, dtype: int64"
      ]
     },
     "execution_count": 150,
     "metadata": {},
     "output_type": "execute_result"
    }
   ],
   "source": [
    "data['Work_Experience'].value_counts(dropna= False)"
   ]
  },
  {
   "cell_type": "code",
   "execution_count": 151,
   "id": "79568807",
   "metadata": {},
   "outputs": [
    {
     "data": {
      "text/plain": [
       "2.0    3158\n",
       "1.0    1965\n",
       "3.0    1952\n",
       "4.0    1823\n",
       "5.0     812\n",
       "NaN     448\n",
       "6.0     290\n",
       "7.0     122\n",
       "8.0      65\n",
       "9.0      60\n",
       "Name: Family_Size, dtype: int64"
      ]
     },
     "execution_count": 151,
     "metadata": {},
     "output_type": "execute_result"
    }
   ],
   "source": [
    "data['Family_Size'].value_counts(dropna= False)"
   ]
  },
  {
   "cell_type": "markdown",
   "id": "fa9298b9",
   "metadata": {},
   "source": [
    "### Checking and Handling missing values"
   ]
  },
  {
   "cell_type": "code",
   "execution_count": 152,
   "id": "df4cc3dd",
   "metadata": {},
   "outputs": [
    {
     "data": {
      "text/plain": [
       "ID                    0\n",
       "Gender                0\n",
       "Ever_Married        190\n",
       "Age                   0\n",
       "Graduated           102\n",
       "Profession          162\n",
       "Work_Experience    1098\n",
       "Spending_Score        0\n",
       "Family_Size         448\n",
       "Category            108\n",
       "Segmentation          0\n",
       "dtype: int64"
      ]
     },
     "execution_count": 152,
     "metadata": {},
     "output_type": "execute_result"
    }
   ],
   "source": [
    "# checking missing values\n",
    "\n",
    "data.isnull().sum()"
   ]
  },
  {
   "cell_type": "markdown",
   "id": "1bcb11ab",
   "metadata": {},
   "source": [
    " ### Handling missing values"
   ]
  },
  {
   "cell_type": "markdown",
   "id": "1abf8f82",
   "metadata": {},
   "source": [
    "I will use imputing mechanism to fill the missing value and use mode for categorical columns and median for numerical columns.\n"
   ]
  },
  {
   "cell_type": "code",
   "execution_count": 153,
   "id": "15f50a3e",
   "metadata": {},
   "outputs": [],
   "source": [
    "# Replacing missing values in categorical columns with mode and Numerical columns with median\n",
    "\n",
    "data['Family_Size'].fillna(data['Family_Size'].median(),inplace=True)\n",
    "data['Work_Experience'].fillna(data['Work_Experience'].median(),inplace=True)\n",
    "\n",
    "data['Graduated'].fillna(data['Graduated'].mode()[0],inplace=True)\n",
    "data['Ever_Married'].fillna(data['Ever_Married'].mode()[0],inplace=True)\n",
    "data['Profession'].fillna(data['Profession'].mode()[0],inplace=True)\n",
    "data['Category'].fillna(data['Category'].mode()[0],inplace=True)\n"
   ]
  },
  {
   "cell_type": "code",
   "execution_count": 154,
   "id": "f8fa445f",
   "metadata": {},
   "outputs": [
    {
     "data": {
      "text/plain": [
       "ID                 0\n",
       "Gender             0\n",
       "Ever_Married       0\n",
       "Age                0\n",
       "Graduated          0\n",
       "Profession         0\n",
       "Work_Experience    0\n",
       "Spending_Score     0\n",
       "Family_Size        0\n",
       "Category           0\n",
       "Segmentation       0\n",
       "dtype: int64"
      ]
     },
     "execution_count": 154,
     "metadata": {},
     "output_type": "execute_result"
    }
   ],
   "source": [
    "data.isnull().sum()"
   ]
  },
  {
   "cell_type": "code",
   "execution_count": 155,
   "id": "e1c0166d",
   "metadata": {},
   "outputs": [
    {
     "data": {
      "text/plain": [
       "(10695, 11)"
      ]
     },
     "execution_count": 155,
     "metadata": {},
     "output_type": "execute_result"
    }
   ],
   "source": [
    "data.shape"
   ]
  },
  {
   "cell_type": "markdown",
   "id": "ca538219",
   "metadata": {},
   "source": [
    "###  Checking and handling outliers"
   ]
  },
  {
   "cell_type": "markdown",
   "id": "4b3efac4",
   "metadata": {},
   "source": [
    "Outliers can be detected using visualizations, implementing mathematical formulas on the dataset or using statistical \n",
    "approach."
   ]
  },
  {
   "cell_type": "markdown",
   "id": "2f88e7c0",
   "metadata": {},
   "source": [
    "### Visualizing and removing outliers using Box plot"
   ]
  },
  {
   "cell_type": "markdown",
   "id": "4343f8c7",
   "metadata": {},
   "source": [
    "It captures the summary of the data with a simple box and whiskers and summarizes using 25th ,50th and 75th percentiles.\n",
    "And it can help us to get insights (quartiles, median and outliers ) of the data , potential outliers and understand the\n",
    "centeral tendency,"
   ]
  },
  {
   "cell_type": "code",
   "execution_count": 156,
   "id": "7fe2915e",
   "metadata": {},
   "outputs": [
    {
     "data": {
      "image/png": "[encoded data removed]",
      "text/plain": [
       "<Figure size 1000x600 with 1 Axes>"
      ]
     },
     "metadata": {},
     "output_type": "display_data"
    },
    {
     "data": {
      "image/png": "[encoded data removed]",
      "text/plain": [
       "<Figure size 1000x600 with 1 Axes>"
      ]
     },
     "metadata": {},
     "output_type": "display_data"
    },
    {
     "data": {
      "image/png": "[encoded data removed]",
      "text/plain": [
       "<Figure size 1000x600 with 1 Axes>"
      ]
     },
     "metadata": {},
     "output_type": "display_data"
    }
   ],
   "source": [
    "# Checking outlier for the numerical features\n",
    "\n",
    "numerical_cols=['Age','Work_Experience','Family_Size']\n",
    "\n",
    "for column in numerical_cols:\n",
    "    plt.figure(figsize=(10,6))\n",
    "    sns.boxplot(x=data[column])\n",
    "    plt.title(f'{column} Distribution')\n",
    "    plt.show()\n",
    "\n",
    "\n"
   ]
  },
  {
   "cell_type": "markdown",
   "id": "7b5b3a0d",
   "metadata": {},
   "source": [
    "From the above graph we can observe that work_experience values above 10 are acting as outliers. To address those outliers I will apply IQR(Inter Quartile Range). IQR is the most commonly used and most trusted approach used in the resarch field.\n",
    "- IQR= Quartile3-Quartile1, this formula  will provide a measure of the spread of the middle 50% of the data in the work_experience columns .\n",
    " \n",
    " - I am calculating the interquartile rage(IQR) for work experience column,\n",
    " - first computes the first quartile (Q1) and third quartile(Q3) using the midpoint method, then calcualte thr IQR as the difference between Q3 and Q1, providing the middle 50% of work experience."
   ]
  },
  {
   "cell_type": "code",
   "execution_count": 157,
   "id": "d6c2a6bc",
   "metadata": {},
   "outputs": [
    {
     "name": "stdout",
     "output_type": "stream",
     "text": [
      "3.0\n"
     ]
    }
   ],
   "source": [
    "Q1 = np.percentile(data['Work_Experience'], 25 , method ='midpoint')\n",
    "\n",
    "Q3= np.percentile(data['Work_Experience'], 75, method ='midpoint')\n",
    "\n",
    "IQR= Q3-Q1\n",
    "\n",
    "print(IQR)"
   ]
  },
  {
   "cell_type": "code",
   "execution_count": 158,
   "id": "1244b1a6",
   "metadata": {},
   "outputs": [
    {
     "name": "stdout",
     "output_type": "stream",
     "text": [
      "Upper Bound: 7.5\n",
      "1536\n",
      "Lower Bound: -4.5\n",
      "0\n"
     ]
    }
   ],
   "source": [
    "# let define the upper and lower bound (1.5*IQR)\n",
    "\n",
    "# Above Uper bound\n",
    "\n",
    "upper =Q3+1.5*IQR\n",
    "\n",
    "upper_array =np.array(data['Work_Experience']>= upper)\n",
    "print(\"Upper Bound:\", upper)\n",
    "print(upper_array.sum())\n",
    "\n",
    "# Below lower bound\n",
    "\n",
    "lower= Q1-1.5*IQR\n",
    "lower_array = np.array(data['Work_Experience']<= lower)\n",
    "print(\"Lower Bound:\", lower)\n",
    "print(lower_array.sum())\n",
    " \n",
    "    "
   ]
  },
  {
   "cell_type": "code",
   "execution_count": 159,
   "id": "cebcd8be",
   "metadata": {},
   "outputs": [],
   "source": [
    "# let remove the outlier from work experience column\n",
    "\n",
    "data['Work_Experience']= data['Work_Experience'].apply(lambda x: lower if x<lower else(upper if x>upper else x))\n"
   ]
  },
  {
   "cell_type": "code",
   "execution_count": 160,
   "id": "a2eb4efa",
   "metadata": {},
   "outputs": [
    {
     "name": "stdout",
     "output_type": "stream",
     "text": [
      "count    10695.000000\n",
      "mean         2.208322\n",
      "std          2.689670\n",
      "min          0.000000\n",
      "25%          0.000000\n",
      "50%          1.000000\n",
      "75%          3.000000\n",
      "max          7.500000\n",
      "Name: Work_Experience, dtype: float64\n"
     ]
    }
   ],
   "source": [
    "print(data['Work_Experience'].describe())"
   ]
  },
  {
   "cell_type": "code",
   "execution_count": 161,
   "id": "9d4d4b20",
   "metadata": {},
   "outputs": [
    {
     "data": {
      "image/png": "[encoded data removed]",
      "text/plain": [
       "<Figure size 1000x600 with 1 Axes>"
      ]
     },
     "metadata": {},
     "output_type": "display_data"
    }
   ],
   "source": [
    "# let examine the modified work experience after removal of the outliers\n",
    "\n",
    "plt.figure(figsize=(10,6))\n",
    "sns.boxplot(x= data['Work_Experience'])\n",
    "plt.title('Box plot for Work Experience')\n",
    "plt.show()"
   ]
  }
 ],
 "metadata": {
  "kernelspec": {
   "display_name": "Python 3 (ipykernel)",
   "language": "python",
   "name": "python3"
  },
  "language_info": {
   "codemirror_mode": {
    "name": "ipython",
    "version": 3
   },
   "file_extension": ".py",
   "mimetype": "text/x-python",
   "name": "python",
   "nbconvert_exporter": "python",
   "pygments_lexer": "ipython3",
   "version": "3.11.3"
  },
  "toc": {
   "base_numbering": 1,
   "nav_menu": {},
   "number_sections": true,
   "sideBar": true,
   "skip_h1_title": true,
   "title_cell": "Table of Contents",
   "title_sidebar": "Contents",
   "toc_cell": false,
   "toc_position": {
    "height": "calc(100% - 180px)",
    "left": "10px",
    "top": "150px",
    "width": "264.625px"
   },
   "toc_section_display": true,
   "toc_window_display": true
  }
 },
 "nbformat": 4,
 "nbformat_minor": 5
}
