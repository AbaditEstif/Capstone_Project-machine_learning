{
 "cells": [
  {
   "cell_type": "markdown",
   "id": "5080eb20",
   "metadata": {},
   "source": [
    "#  <font color=blue> ****Predicting Customer Behavior using machine learning algorithms**** </font>"
   ]
  },
  {
   "cell_type": "markdown",
   "id": "02dab483",
   "metadata": {},
   "source": [
    "## Introduction\n"
   ]
  },
  {
   "cell_type": "markdown",
   "id": "141bb3a0",
   "metadata": {},
   "source": [
    "Customer behavior analysis is crucial for businesses to better understand their customers' needs, preferences, and buying patterns. This understanding enables marketing teams to tailor their strategies more effectively, ensuring efficient outreach, increased customer satisfaction, and enhanced marketing strategies. Machine learning and predictive analysis are essential tools for uncovering insights from vast amounts of data, helping businesses identify customer needs and behavior trends. With the growing availability of customer data from sources like online transactions, social media, and customer service interactions, traditional analysis methods are becoming insufficient. As businesses struggle to extract meaningful insights, they face missed opportunities and inefficiencies in targeting and customer engagement efforts."
   ]
  },
  {
   "cell_type": "markdown",
   "id": "7c56f0cf",
   "metadata": {},
   "source": [
    "## Challenges"
   ]
  },
  {
   "cell_type": "markdown",
   "id": "9e53dc82",
   "metadata": {},
   "source": [
    "With the overwhelming volume of customer data, businesses face challenges in effectively harnessing this information to drive strategies. Traditional analysis methods fall short when it comes to analyzing the vast datasets now available. The main challenges include:\n",
    "\n",
    "Extracting meaningful insights from large datasets to uncover key behavioral patterns and trends.\n",
    "Missed opportunities due to the inability to fully leverage data for targeted marketing and customer engagement.\n",
    "Inefficiencies in resource allocation because of limited insight into customer segmentation and responsiveness."
   ]
  },
  {
   "cell_type": "markdown",
   "id": "cf2020f3",
   "metadata": {},
   "source": [
    "## Objective "
   ]
  },
  {
   "cell_type": "markdown",
   "id": "55cb445d",
   "metadata": {},
   "source": [
    " An automobile company has plans to enter new markets with their existing products and after intensive market research, they’ve realized that the behavior of the new market is like their existing market. In their existing market, the sales team has classified all customers into 4 segments (A, B, C, D). Then, they performed segmented outreach and communication for a different segment of customers. This strategy has worked exceptionally well for them. Accordingly, they plan to use the same strategy for the new markets.The objective of the project is to predict the appropriate customer segments(A,B,C,D ) in a new market based on the existing market behavior by leveraging  machine learning techniques thus hepls:\n",
    "\n",
    " -\tPersonalized marketing:   help the sales team to create highly targeted marketing campaigns focused on the interest and behaviors of specific customer groups, leading to a more satisfying customer experience\n",
    " \n",
    " -\tEfficient resource allocation:  business can focus their marketing, sales, and product development effort on segments that respond positively which maximize revenue\n",
    " \n",
    " -\tIncrease customer retention:  by meeting the specific needs of each segment business can build relationships with customers, increasing loyalty and reducing churn "
   ]
  },
  {
   "cell_type": "markdown",
   "id": "0862535c",
   "metadata": {},
   "source": [
    "## Dataset and Data fields :\n"
   ]
  },
  {
   "cell_type": "markdown",
   "id": "83f42f5f",
   "metadata": {},
   "source": [
    "The dataset includes information on customers in the existing market , with fields age, gender , martial status, education , profession , work experience , family size, spending score and de-idenified categories. "
   ]
  },
  {
   "cell_type": "markdown",
   "id": "c953774a",
   "metadata": {},
   "source": [
    "## Import Necessary libraries"
   ]
  },
  {
   "cell_type": "code",
   "execution_count": null,
   "id": "ec6a2e19",
   "metadata": {},
   "outputs": [],
   "source": [
    "import pandas as pd # data processing , csv file(e.g. pd.read_s-csv)\n",
    "import numpy as np  # linear algebra\n",
    "import seaborn as sns # data visualization\n",
    "import matplotlib.pyplot as plt # data visualization \n",
    "import plotly.express as px      \n",
    "import plotly.graph_objs as go  # data visualization\n",
    "from plotly import tools\n",
    "from plotly.subplots import make_subplots\n",
    "from  sklearn.impute import SimpleImputer\n",
    "from sklearn.preprocessing import OrdinalEncoder\n",
    "from sklearn.preprocessing import LabelEncoder\n",
    "from sklearn.model_selection import train_test_split, GridSearchCV,cross_val_score\n",
    "from sklearn.preprocessing  import StandardScaler\n",
    "from sklearn.ensemble import RandomForestClassifier\n",
    "from sklearn.model_selection import GridSearchCV\n",
    "from sklearn.model_selection import RandomizedSearchCV\n",
    "from sklearn.svm import SVC\n",
    "from sklearn.neighbors import KNeighborsClassifier\n",
    "from sklearn.tree import DecisionTreeClassifier\n",
    "from sklearn.linear_model import LogisticRegression\n",
    "from sklearn import metrics\n",
    "from sklearn.metrics import accuracy_score, confusion_matrix, classification_report, ConfusionMatrixDisplay\n",
    "from  sklearn.feature_selection import mutual_info_classif\n",
    "import ipywidgets as widgets\n",
    "import streamlit as st\n",
    "\n",
    "\n",
    "plt.figure(figsize=(15,8))\n",
    "sns.set(rc={'figure.figsize':(12,6)})\n"
   ]
  },
  {
   "cell_type": "markdown",
   "id": "0bcc660e",
   "metadata": {},
   "source": [
    "## Loading and Preprocessing the data"
   ]
  },
  {
   "cell_type": "code",
   "execution_count": null,
   "id": "3aae95ec",
   "metadata": {},
   "outputs": [],
   "source": [
    "train = pd.read_csv(\"https://raw.githubusercontent.com/AbaditEstif/machine_learning/main/Train.csv\")\n",
    "test= pd.read_csv(\"https://raw.githubusercontent.com/AbaditEstif/machine_learning/main/Test.csv\")"
   ]
  },
  {
   "cell_type": "code",
   "execution_count": null,
   "id": "038e3fc7",
   "metadata": {},
   "outputs": [],
   "source": [
    "train.shape"
   ]
  },
  {
   "cell_type": "code",
   "execution_count": null,
   "id": "af8afccf",
   "metadata": {},
   "outputs": [],
   "source": [
    "train.duplicated().sum()"
   ]
  },
  {
   "cell_type": "code",
   "execution_count": null,
   "id": "b186bb32",
   "metadata": {},
   "outputs": [],
   "source": [
    "test.shape"
   ]
  },
  {
   "cell_type": "code",
   "execution_count": null,
   "id": "c88a4bfc",
   "metadata": {},
   "outputs": [],
   "source": [
    "test.duplicated().sum()"
   ]
  },
  {
   "cell_type": "code",
   "execution_count": null,
   "id": "59c897fe",
   "metadata": {},
   "outputs": [],
   "source": [
    "# Concatenate both train and test datasets\n",
    "\n",
    "\n",
    "data = pd.concat([train,test])"
   ]
  },
  {
   "cell_type": "markdown",
   "id": "d66741ed",
   "metadata": {},
   "source": [
    "### Data understanding "
   ]
  },
  {
   "cell_type": "markdown",
   "id": "3077f9c3",
   "metadata": {},
   "source": [
    "My aim is to observe and study the categorical and numerical features of the dataset. by examining the unique value counts. I can understand the distribution and quality of the data and can get insights about the quality of the data,potential issues such as duplicates , imbalances and missing values."
   ]
  },
  {
   "cell_type": "code",
   "execution_count": null,
   "id": "40e0db25",
   "metadata": {},
   "outputs": [],
   "source": [
    "print(\"Number of rows:\", len(data))\n",
    "data.head(10)"
   ]
  },
  {
   "cell_type": "code",
   "execution_count": null,
   "id": "ce00150f",
   "metadata": {},
   "outputs": [],
   "source": [
    "data.info()"
   ]
  },
  {
   "cell_type": "code",
   "execution_count": null,
   "id": "f89af619",
   "metadata": {},
   "outputs": [],
   "source": [
    "data.shape"
   ]
  },
  {
   "cell_type": "code",
   "execution_count": null,
   "id": "72a4787a",
   "metadata": {},
   "outputs": [],
   "source": [
    "# les rename Var_1 column for better understanding \n",
    "\n",
    "data= data.rename(columns={\"Var_1\":\"Category\"})"
   ]
  },
  {
   "cell_type": "code",
   "execution_count": null,
   "id": "de48ee64",
   "metadata": {},
   "outputs": [],
   "source": [
    "# Checking for misspelled or unsual values in columns\n",
    "\n",
    "\n",
    "print(\"Gender:\", data['Gender'].unique())\n",
    "print(\"Ever_Maried:\", data['Ever_Married'].unique())\n",
    "print(\"Graduated:\", data['Graduated'].unique())\n",
    "print(\"Spending_Score:\", data['Spending_Score'].unique())\n",
    "print(\"Profession:\", data['Profession'].unique())\n",
    "print(\"Segmentation:\", data['Segmentation'].unique())\n",
    "print(\"Category:\", data['Category'].unique())\n",
    "\n",
    "\n"
   ]
  },
  {
   "cell_type": "markdown",
   "id": "1634ef35",
   "metadata": {},
   "source": [
    "### Statistical Analysis"
   ]
  },
  {
   "cell_type": "markdown",
   "id": "354db082",
   "metadata": {},
   "source": [
    "we will use data.describe(), which will give a descriptive overview of the dataset"
   ]
  },
  {
   "cell_type": "code",
   "execution_count": null,
   "id": "7f94ff47",
   "metadata": {},
   "outputs": [],
   "source": [
    " # describe Numerical features\n",
    "    \n",
    "num_data= data.describe()\n",
    "num_data.style.background_gradient(cmap='Oranges')\n",
    "\n"
   ]
  },
  {
   "cell_type": "markdown",
   "id": "4100137a",
   "metadata": {},
   "source": [
    "The above table shows the count,mean standard deviation,min,25%,50%,75% and max values for each column and we can observe that:\n",
    "- customer age ranges from 18 to  89 years old with mean of 43.5\n",
    "- works experience ranges from 0 to 14 year with mean of 2.64\n",
    "- family size ranges from 1 to 9 with  mean of 2.84\n"
   ]
  },
  {
   "cell_type": "code",
   "execution_count": null,
   "id": "166dfae6",
   "metadata": {},
   "outputs": [],
   "source": [
    "data.duplicated().sum()"
   ]
  },
  {
   "cell_type": "code",
   "execution_count": null,
   "id": "090e5d37",
   "metadata": {},
   "outputs": [],
   "source": [
    "data.columns"
   ]
  },
  {
   "cell_type": "code",
   "execution_count": null,
   "id": "32694bf1",
   "metadata": {},
   "outputs": [],
   "source": [
    "data['Age'].value_counts( dropna= False)"
   ]
  },
  {
   "cell_type": "code",
   "execution_count": null,
   "id": "6d16137a",
   "metadata": {},
   "outputs": [],
   "source": [
    "data['Age'].unique()"
   ]
  },
  {
   "cell_type": "code",
   "execution_count": null,
   "id": "fe92b8bf",
   "metadata": {},
   "outputs": [],
   "source": [
    "print(\"Gender:\", data['Gender'].value_counts( dropna= False)),'\\n',\n",
    "\n",
    "print(\"Graduated:\", data['Graduated'].value_counts( dropna= False)),'\\n',\n",
    "\n",
    "print(\"Spending_Score:\", data['Spending_Score'].value_counts( dropna= False))\n"
   ]
  },
  {
   "cell_type": "code",
   "execution_count": null,
   "id": "76bf96c2",
   "metadata": {},
   "outputs": [],
   "source": [
    "data['Profession'].value_counts(dropna=False)"
   ]
  },
  {
   "cell_type": "code",
   "execution_count": null,
   "id": "a9ad9eb0",
   "metadata": {},
   "outputs": [],
   "source": [
    "data['Work_Experience'].value_counts(dropna= False)"
   ]
  },
  {
   "cell_type": "code",
   "execution_count": null,
   "id": "79568807",
   "metadata": {},
   "outputs": [],
   "source": [
    "data['Family_Size'].value_counts(dropna= False)"
   ]
  },
  {
   "cell_type": "markdown",
   "id": "fa9298b9",
   "metadata": {},
   "source": [
    "### Checking and Handling missing values"
   ]
  },
  {
   "cell_type": "code",
   "execution_count": null,
   "id": "df4cc3dd",
   "metadata": {},
   "outputs": [],
   "source": [
    "# checking missing values\n",
    "\n",
    "data.isnull().sum()"
   ]
  },
  {
   "cell_type": "markdown",
   "id": "1bcb11ab",
   "metadata": {},
   "source": [
    " ### Handling missing values"
   ]
  },
  {
   "cell_type": "markdown",
   "id": "1abf8f82",
   "metadata": {},
   "source": [
    "I will use imputing mechanism to fill the missing value and use mode for categorical columns and median for numerical columns.\n"
   ]
  },
  {
   "cell_type": "code",
   "execution_count": null,
   "id": "15f50a3e",
   "metadata": {},
   "outputs": [],
   "source": [
    "# Replacing missing values in categorical columns with mode and Numerical columns with median\n",
    "\n",
    "data['Family_Size'].fillna(data['Family_Size'].median(),inplace=True)\n",
    "data['Work_Experience'].fillna(data['Work_Experience'].median(),inplace=True)\n",
    "\n",
    "data['Graduated'].fillna(data['Graduated'].mode()[0],inplace=True)\n",
    "data['Ever_Married'].fillna(data['Ever_Married'].mode()[0],inplace=True)\n",
    "data['Profession'].fillna(data['Profession'].mode()[0],inplace=True)\n",
    "data['Category'].fillna(data['Category'].mode()[0],inplace=True)\n"
   ]
  },
  {
   "cell_type": "code",
   "execution_count": null,
   "id": "f8fa445f",
   "metadata": {},
   "outputs": [],
   "source": [
    "data.isnull().sum()"
   ]
  },
  {
   "cell_type": "code",
   "execution_count": null,
   "id": "e1c0166d",
   "metadata": {},
   "outputs": [],
   "source": [
    "data.shape"
   ]
  },
  {
   "cell_type": "markdown",
   "id": "ca538219",
   "metadata": {},
   "source": [
    "###  Checking and handling outliers"
   ]
  },
  {
   "cell_type": "markdown",
   "id": "4b3efac4",
   "metadata": {},
   "source": [
    "Outliers can be detected using visualizations, implementing mathematical formulas on the dataset or using statistical \n",
    "approach."
   ]
  },
  {
   "cell_type": "markdown",
   "id": "2f88e7c0",
   "metadata": {},
   "source": [
    "### Visualizing and removing outliers using Box plot"
   ]
  },
  {
   "cell_type": "markdown",
   "id": "4343f8c7",
   "metadata": {},
   "source": [
    "It captures the summary of the data with a simple box and whiskers and summarizes using 25th ,50th and 75th percentiles.\n",
    "And it can help us to get insights (quartiles, median and outliers ) of the data , potential outliers and understand the\n",
    "centeral tendency,"
   ]
  },
  {
   "cell_type": "code",
   "execution_count": null,
   "id": "7fe2915e",
   "metadata": {},
   "outputs": [],
   "source": [
    "# Checking outlier for the numerical features\n",
    "\n",
    "numerical_cols=['Age','Work_Experience','Family_Size']\n",
    "\n",
    "for column in numerical_cols:\n",
    "    plt.figure(figsize=(10,6))\n",
    "    sns.boxplot(x=data[column])\n",
    "    plt.title(f'{column} Distribution')\n",
    "    plt.show()\n",
    "\n",
    "\n"
   ]
  },
  {
   "cell_type": "markdown",
   "id": "7b5b3a0d",
   "metadata": {},
   "source": [
    "From the above graph we can observe that work_experience values above 10 are acting as outliers. To address those outliers I will apply IQR(Inter Quartile Range). IQR is the most commonly used and most trusted approach used in the resarch field.\n",
    "- IQR= Quartile3-Quartile1, this formula  will provide a measure of the spread of the middle 50% of the data in the work_experience columns .\n",
    " \n",
    " - I am calculating the interquartile rage(IQR) for work experience column,\n",
    " - first computes the first quartile (Q1) and third quartile(Q3) using the midpoint method, then calcualte thr IQR as the difference between Q3 and Q1, providing the middle 50% of work experience."
   ]
  },
  {
   "cell_type": "code",
   "execution_count": null,
   "id": "d6c2a6bc",
   "metadata": {},
   "outputs": [],
   "source": [
    "Q1 = np.percentile(data['Work_Experience'], 25 , method ='midpoint')\n",
    "\n",
    "Q3= np.percentile(data['Work_Experience'], 75, method ='midpoint')\n",
    "\n",
    "IQR= Q3-Q1\n",
    "\n",
    "print(IQR)"
   ]
  },
  {
   "cell_type": "code",
   "execution_count": null,
   "id": "1244b1a6",
   "metadata": {},
   "outputs": [],
   "source": [
    "# let define the upper and lower bound (1.5*IQR)\n",
    "\n",
    "# Above Uper bound\n",
    "\n",
    "upper =Q3+1.5*IQR\n",
    "\n",
    "upper_array =np.array(data['Work_Experience']>= upper)\n",
    "print(\"Upper Bound:\", upper)\n",
    "print(upper_array.sum())\n",
    "\n",
    "# Below lower bound\n",
    "\n",
    "lower= Q1-1.5*IQR\n",
    "lower_array = np.array(data['Work_Experience']<= lower)\n",
    "print(\"Lower Bound:\", lower)\n",
    "print(lower_array.sum())\n",
    " \n",
    "    "
   ]
  },
  {
   "cell_type": "code",
   "execution_count": null,
   "id": "cebcd8be",
   "metadata": {},
   "outputs": [],
   "source": [
    "# let remove the outlier from work experience column\n",
    "\n",
    "data['Work_Experience']= data['Work_Experience'].apply(lambda x: lower if x<lower else(upper if x>upper else x))\n"
   ]
  },
  {
   "cell_type": "code",
   "execution_count": null,
   "id": "a2eb4efa",
   "metadata": {},
   "outputs": [],
   "source": [
    "print(data['Work_Experience'].describe())"
   ]
  },
  {
   "cell_type": "code",
   "execution_count": null,
   "id": "9d4d4b20",
   "metadata": {},
   "outputs": [],
   "source": [
    "# let examine the modified work experience after removal of the outliers\n",
    "\n",
    "plt.figure(figsize=(10,6))\n",
    "sns.boxplot(x= data['Work_Experience'])\n",
    "plt.title('Box plot for Work Experience')\n",
    "plt.show()"
   ]
  },
  {
   "cell_type": "code",
   "execution_count": null,
   "id": "86dda2d4",
   "metadata": {},
   "outputs": [],
   "source": []
  },
  {
   "cell_type": "markdown",
   "id": "da59f2e0",
   "metadata": {},
   "source": [
    "## Exploratory Data Analysis(EDA)"
   ]
  },
  {
   "cell_type": "markdown",
   "id": "6fc83de8",
   "metadata": {},
   "source": [
    "EDA is a crucial step in the data analysis process as it helps studying, exploring, and visualizing information to derive important insights by using statistical tools and visualizations.It aids to find patterns, trends, and relationships between the variables."
   ]
  },
  {
   "cell_type": "markdown",
   "id": "abc8ce12",
   "metadata": {},
   "source": [
    "### Univariate Analysis"
   ]
  },
  {
   "cell_type": "markdown",
   "id": "9d9f8bd6",
   "metadata": {},
   "source": [
    "Univare analysis involves looking at the distribution of a single variable.It is an brilliant way to understand a dataset’s range and spread of data. I will use plotly  to create univariate plots quickly."
   ]
  },
  {
   "cell_type": "markdown",
   "id": "a74af19f",
   "metadata": {},
   "source": [
    "#### Calculate Summary Statistics For the Age of the Customer"
   ]
  },
  {
   "cell_type": "code",
   "execution_count": null,
   "id": "973f9cb5",
   "metadata": {},
   "outputs": [],
   "source": [
    "data['Age'].mean()"
   ]
  },
  {
   "cell_type": "code",
   "execution_count": null,
   "id": "ce036674",
   "metadata": {},
   "outputs": [],
   "source": [
    "data['Age'].median()"
   ]
  },
  {
   "cell_type": "code",
   "execution_count": null,
   "id": "10d2e11d",
   "metadata": {},
   "outputs": [],
   "source": [
    "data['Age'].std()"
   ]
  },
  {
   "cell_type": "code",
   "execution_count": null,
   "id": "9a4eedf2",
   "metadata": {},
   "outputs": [],
   "source": [
    "# create frequency table for 'Age'\n",
    "\n",
    "data['Age'].value_counts()"
   ]
  },
  {
   "cell_type": "code",
   "execution_count": null,
   "id": "ba7258e5",
   "metadata": {},
   "outputs": [],
   "source": [
    "fig= px.histogram(data, x=\"Age\", nbins=20, title= \"Age Distribution\", template=\"presentation\", text_auto=True)\n",
    "fig.update_layout(bargap=0.1)\n",
    "fig.show()"
   ]
  },
  {
   "cell_type": "code",
   "execution_count": null,
   "id": "a887fcb5",
   "metadata": {},
   "outputs": [],
   "source": []
  },
  {
   "cell_type": "markdown",
   "id": "31daba7a",
   "metadata": {},
   "source": [
    "#### Percentage distribution of Customer segments"
   ]
  },
  {
   "cell_type": "code",
   "execution_count": null,
   "id": "cb4f947e",
   "metadata": {},
   "outputs": [],
   "source": [
    "px.pie(data, names= 'Segmentation', title =\"Percentage of each segment\",template=\"presentation\")"
   ]
  },
  {
   "cell_type": "code",
   "execution_count": null,
   "id": "578c2096",
   "metadata": {},
   "outputs": [],
   "source": []
  },
  {
   "cell_type": "markdown",
   "id": "e8e7d87a",
   "metadata": {},
   "source": [
    "####  Gender Distribution  "
   ]
  },
  {
   "cell_type": "code",
   "execution_count": null,
   "id": "d9ccc0b6",
   "metadata": {},
   "outputs": [],
   "source": [
    "\n",
    "\n",
    "gender= data.groupby([\"Gender\"]).size().rename(\"count\").reset_index()"
   ]
  },
  {
   "cell_type": "code",
   "execution_count": null,
   "id": "196cc69b",
   "metadata": {},
   "outputs": [],
   "source": [
    "gender.head()"
   ]
  },
  {
   "cell_type": "code",
   "execution_count": null,
   "id": "5ff6553f",
   "metadata": {},
   "outputs": [],
   "source": [
    "px.bar(gender, x=\"Gender\",y=\"count\",color=\"Gender\",text=\"count\", color_discrete_sequence=[\"gray\",\"green\"], title=\"Distribution of Gender \",\n",
    "      template=\"presentation\")"
   ]
  },
  {
   "cell_type": "markdown",
   "id": "90c0818e",
   "metadata": {},
   "source": [
    "####  Distribution of the customer’s professional inclination "
   ]
  },
  {
   "cell_type": "code",
   "execution_count": null,
   "id": "c8394630",
   "metadata": {},
   "outputs": [],
   "source": [
    "profession= data.groupby([\"Profession\"]).size().rename(\"count\").reset_index()"
   ]
  },
  {
   "cell_type": "code",
   "execution_count": null,
   "id": "d1aedb67",
   "metadata": {},
   "outputs": [],
   "source": [
    "profession.head()"
   ]
  },
  {
   "cell_type": "code",
   "execution_count": null,
   "id": "559eb4fc",
   "metadata": {
    "scrolled": true
   },
   "outputs": [],
   "source": [
    "px.bar(profession, x=\"Profession\",y=\"count\", color=\"Profession\", text=\"count\", title= \" Distribution of Profession \",\n",
    "      template=\"presentation\")"
   ]
  },
  {
   "cell_type": "code",
   "execution_count": null,
   "id": "b6d77b92",
   "metadata": {},
   "outputs": [],
   "source": [
    "#fig= make_subplots(rows= 1,cols=2)\n",
    "#fig.add_trace(go.bar(x=data['Graduated'].value_counts().index,y=data['Graduated'].value_counts().values),row=1,col=1)\n",
    "#fig.show()"
   ]
  },
  {
   "cell_type": "code",
   "execution_count": null,
   "id": "d0ae52fe",
   "metadata": {
    "scrolled": true
   },
   "outputs": [],
   "source": [
    " px.pie(data_frame= profession, values=\"count\", names=\"Profession\",color=\"Profession\",title=\" Distribution of Profession \",\n",
    "       template=\"presentation\", width= 800,height=600,hole=0.5)"
   ]
  },
  {
   "cell_type": "markdown",
   "id": "7fe2a054",
   "metadata": {},
   "source": [
    "#### Distribution of Marital Status "
   ]
  },
  {
   "cell_type": "code",
   "execution_count": null,
   "id": "7d1d27e4",
   "metadata": {},
   "outputs": [],
   "source": [
    "marital_status= data.groupby([\"Ever_Married\"]).size().rename(\"count\").reset_index()"
   ]
  },
  {
   "cell_type": "code",
   "execution_count": null,
   "id": "8625a35a",
   "metadata": {},
   "outputs": [],
   "source": [
    "marital_status.head()"
   ]
  },
  {
   "cell_type": "code",
   "execution_count": null,
   "id": "10833690",
   "metadata": {},
   "outputs": [],
   "source": [
    "px.bar(marital_status, x= \"Ever_Married\",y=\"count\",color=\"Ever_Married\", text=\"count\", color_discrete_sequence=[\"brown\",\"gray\"],\n",
    "      template=\"presentation\")"
   ]
  },
  {
   "cell_type": "code",
   "execution_count": null,
   "id": "748603a9",
   "metadata": {},
   "outputs": [],
   "source": []
  },
  {
   "cell_type": "code",
   "execution_count": null,
   "id": "04685417",
   "metadata": {},
   "outputs": [],
   "source": [
    "px.pie(data_frame= marital_status, values=\"count\", names=\"Ever_Married\", color=\"Ever_Married\", title= \"Marital Status of the Customer\",\n",
    "      template=\"presentation\")"
   ]
  },
  {
   "cell_type": "markdown",
   "id": "b73118c5",
   "metadata": {},
   "source": [
    "#### Distribution  of Educational Level "
   ]
  },
  {
   "cell_type": "code",
   "execution_count": null,
   "id": "1b398fa7",
   "metadata": {},
   "outputs": [],
   "source": [
    "grad= data.groupby([\"Graduated\"]).size().rename(\"count\").reset_index()"
   ]
  },
  {
   "cell_type": "code",
   "execution_count": null,
   "id": "72a5223c",
   "metadata": {},
   "outputs": [],
   "source": [
    "grad.head()"
   ]
  },
  {
   "cell_type": "code",
   "execution_count": null,
   "id": "1e806790",
   "metadata": {
    "scrolled": true
   },
   "outputs": [],
   "source": [
    "px.pie(data_frame= grad,values=\"count\", names=\"Graduated\", color=\"Graduated\", title= \" Is the Customer Graduate \", template=\"presentation\") "
   ]
  },
  {
   "cell_type": "markdown",
   "id": "98e67287",
   "metadata": {},
   "source": [
    "####   Work Experience in years"
   ]
  },
  {
   "cell_type": "code",
   "execution_count": null,
   "id": "60214a17",
   "metadata": {},
   "outputs": [],
   "source": [
    "work= data.groupby([\"Work_Experience\"]).size().rename(\"count\").reset_index()"
   ]
  },
  {
   "cell_type": "code",
   "execution_count": null,
   "id": "b02ff13b",
   "metadata": {},
   "outputs": [],
   "source": [
    "work.tail()"
   ]
  },
  {
   "cell_type": "code",
   "execution_count": null,
   "id": "e762e85d",
   "metadata": {},
   "outputs": [],
   "source": [
    "px.bar(work, x=\"Work_Experience\",y=\"count\", text=\"count\", title= \"Work Experience in Years\", hover_name=\"Work_Experience\",\n",
    "       color= \"Work_Experience\",color_discrete_sequence=[\"orange\",\"red\",\"yellow\",\"brown\",\"gray\",\"blue\",\"purple\"],orientation=\"v\",\n",
    "      template=\"presentation\")"
   ]
  },
  {
   "cell_type": "markdown",
   "id": "ae588fd7",
   "metadata": {},
   "source": [
    "####   Spending Score of the Customer"
   ]
  },
  {
   "cell_type": "code",
   "execution_count": null,
   "id": "5703dd75",
   "metadata": {},
   "outputs": [],
   "source": [
    "score= data.groupby([\"Spending_Score\"]).size().rename(\"count\").reset_index()"
   ]
  },
  {
   "cell_type": "code",
   "execution_count": null,
   "id": "9b5a49e9",
   "metadata": {},
   "outputs": [],
   "source": [
    "score.head()"
   ]
  },
  {
   "cell_type": "code",
   "execution_count": null,
   "id": "fec79e26",
   "metadata": {},
   "outputs": [],
   "source": [
    "pie_chart= px.pie(data_frame= score, values= 'count', names='Spending_Score',color='Spending_Score',\n",
    "                  title= 'Spending Score of the Customer',width= 800,height=500,hole=0.6,template=\"presentation\")\n",
    "pie_chart.show()"
   ]
  },
  {
   "cell_type": "markdown",
   "id": "f6999f25",
   "metadata": {},
   "source": [
    "**Here are some insights regarding the spendig behavior of the customers**\n",
    "\n",
    "**Majority of Customers Are Low Spenders (60.7%)**: A significant portion of the customer base falls into the low spending category. This suggests that many customers may not be fully engaged with the products, or they may be price-sensitive. Understanding the factors driving this low engagement could help the automobile company to develop targeted marketing strategies to encourage higher spending.\n",
    "\n",
    "**Moderate Engagement with Average Spenders (24.3%)**: About a quarter of the customers are classified as average spenders. This group might be more responsive to promotional efforts. Consider tailoring marketing campaigns that specifically target this segment to encourage them to move into the high spending category.\n",
    "\n",
    "**Small Percentage of High Spenders (15%)**: The relatively small proportion of high spenders indicates that there is a niche audience that generates a disproportionate amount of revenue. It's important to identify the characteristics and behaviors of these customers. Fostering loyalty among this group through personalized marketing, rewards programs, or exclusive offers could further enhance their spending.\n"
   ]
  },
  {
   "cell_type": "markdown",
   "id": "002ecf4f",
   "metadata": {},
   "source": [
    "####  Family members for the customer"
   ]
  },
  {
   "cell_type": "code",
   "execution_count": null,
   "id": "e507b304",
   "metadata": {},
   "outputs": [],
   "source": [
    "family= data.groupby([\"Family_Size\"]).size().rename(\"count\").reset_index()"
   ]
  },
  {
   "cell_type": "code",
   "execution_count": null,
   "id": "26980a54",
   "metadata": {},
   "outputs": [],
   "source": [
    "family.tail()"
   ]
  },
  {
   "cell_type": "code",
   "execution_count": null,
   "id": "47e9da04",
   "metadata": {},
   "outputs": [],
   "source": [
    "bar_chart = px.bar(family, x=\"Family_Size\",y=\"count\", text=\"count\", title= \"Family Size of the Customer\", hover_name=\"Family_Size\",\n",
    "       color= \"Family_Size\",color_discrete_sequence=[\"orange\",\"red\",\"yellow\",\"brown\",\"gray\",\"blue\",\"purple\"],\n",
    "                template=\"presentation\")\n",
    "bar_chart.show()"
   ]
  },
  {
   "cell_type": "code",
   "execution_count": null,
   "id": "a663b1cd",
   "metadata": {},
   "outputs": [],
   "source": [
    "data.columns"
   ]
  },
  {
   "cell_type": "markdown",
   "id": "9f369cab",
   "metadata": {},
   "source": [
    "#### Analysis of Anonymised Category for the Customer"
   ]
  },
  {
   "cell_type": "code",
   "execution_count": null,
   "id": "f4a6be7f",
   "metadata": {},
   "outputs": [],
   "source": [
    "Anonymized_cat= data.groupby([\"Category\"]).size().rename(\"count\").reset_index()"
   ]
  },
  {
   "cell_type": "code",
   "execution_count": null,
   "id": "0c7dc405",
   "metadata": {},
   "outputs": [],
   "source": [
    "Anonymized_cat.head()"
   ]
  },
  {
   "cell_type": "code",
   "execution_count": null,
   "id": "223dcfad",
   "metadata": {},
   "outputs": [],
   "source": [
    "pie_chart= px.pie(Anonymized_cat, names=\"Category\", values=\"count\",\n",
    "                  title= \"Percentage of Anonymized category for the Customer\", template=\"presentation\")\n",
    "pie_chart.show()"
   ]
  },
  {
   "cell_type": "markdown",
   "id": "e915cfbf",
   "metadata": {},
   "source": [
    "### Bivariate Analysis"
   ]
  },
  {
   "cell_type": "markdown",
   "id": "464a40c5",
   "metadata": {},
   "source": [
    "Bivariate analysis looks at the relationship between two variables and gives us a better understanding of how the two variables interact."
   ]
  },
  {
   "cell_type": "markdown",
   "id": "fda80999",
   "metadata": {},
   "source": [
    "**Visualize the distribution of Numerical features (Age, work_experience  and family size) against the target variable (Segmentation) usign violin plots**\n",
    "\n"
   ]
  },
  {
   "cell_type": "code",
   "execution_count": null,
   "id": "e1f782f3",
   "metadata": {},
   "outputs": [],
   "source": [
    "# Define the features and the target variable\n",
    "features = ['Age', 'Work_Experience', 'Family_Size']\n",
    "target_variable = 'Segmentation'\n",
    "# Set up the subplots\n",
    "fig, axes = plt.subplots(nrows=1, ncols=len(features), figsize=(18, 6))\n",
    "# Create violin plots for each feature\n",
    "\n",
    "for ax, feature in zip(axes, features):\n",
    "    sns.violinplot(x=target_variable, y=feature, data=data, ax=ax)\n",
    "    ax.set_title(f'Distribution of {feature} by {target_variable}')\n",
    "    ax.set_xlabel(target_variable)\n",
    "    ax.set_ylabel(feature)\n"
   ]
  },
  {
   "cell_type": "markdown",
   "id": "45744773",
   "metadata": {},
   "source": [
    "**The following observations can be derived from the above plots**\n",
    "\n",
    "**AGE**\n",
    "- *Segment D*: Age Range: The distribution is spread from around 20 to 80+ years\n",
    "- Median Age:The median age seems to be closer to 40:\n",
    "- Density: There is a slightly higher density around the ages of 30-40 and another around 50-60, indicating two subgroups within this segment.\n",
    "\n",
    "- Segment A: Age Range: Segment A's age distribution spans from 20 to 80.\n",
    "- Medain Age:The median age for Segment A is also around 40 years.\n",
    "- Density: The distribution is slightly more concentrated around the ages of 30-40, meaning more individuals in this segment are younger or middle-aged.\n",
    "\n",
    "- Segment B: Age Rang: he distribution for Segment B spans from around 20 to 80 years as well. \n",
    "- Median Age: The median is around 40 years\n",
    "- Density: Segment C appears to have a relatively even distribution of ages, with slight concentrations in the middle-age range (30-50).\n",
    "\n",
    "- Segment C: Age Range: Segment C exhibits a similar age range of 20 to 80 years.\n",
    "- Median Age: The median is around 40 years.\n",
    "- Density: Segment C appears to have a relatively even distribution of ages, with slight concentrations in the middle-age range (30-50)\n",
    "\n",
    "\n",
    "**Work_Experience**\n",
    "\n",
    "- Key Takeawys: - Low Median Work Experience: Across all segments, the median work experience is consistently low, around 1-2 years. This suggests that the majority of individuals across these segments have relatively little work experience. - Segment D and A: These segments show broader distributions of work experience, with more individuals having moderate to higher levels of experience (up to 4-6 years), compared to Segments B and C - Segment C: This segment has the tightest distribution of work experience, with a strong concentration around low levels of experience (1 year), indicating that most individuals in Segment C are early in their career or have relatively little work experience\n",
    "\n",
    "**Family_Size**\n",
    "\n",
    "- Key Takeaways:- Consistent Median Family Size: Across all segments, the median family size is consistently around 2, meaning that the typical family size in all segments is around 2 members. - Distribution and Density: In all segments, family sizes of 1, 2, and 3 are the most frequent, while larger family sizes (above 4) are less common. Segment C seems to have a slightly narrower distribution, with fewer large families. - Segment D: Shows a bit more spread in family size values, with some larger family sizes appearing more frequently compared to other segments. - Segment C: Has a more compact distribution, indicating fewer families with large sizes compared to other segments.\n",
    "\n"
   ]
  },
  {
   "cell_type": "markdown",
   "id": "527eebe5",
   "metadata": {},
   "source": [
    "#### Customer Segmentation based on Gender"
   ]
  },
  {
   "cell_type": "code",
   "execution_count": null,
   "id": "e6e8073d",
   "metadata": {},
   "outputs": [],
   "source": [
    "gender_based= pd.pivot_table(data, values='ID',index=['Gender'],columns=['Segmentation'],aggfunc=np.count_nonzero)"
   ]
  },
  {
   "cell_type": "code",
   "execution_count": null,
   "id": "f9480f80",
   "metadata": {},
   "outputs": [],
   "source": [
    "gender_based"
   ]
  },
  {
   "cell_type": "code",
   "execution_count": null,
   "id": "20762a90",
   "metadata": {},
   "outputs": [],
   "source": [
    "fig= px.histogram(data, x=\"Segmentation\", color= \"Gender\", template=\"presentation\", title=\"Segmentation based on Gender\")\n",
    "                 \n",
    "fig.update_layout(bargap=0.1)\n",
    "fig.show()"
   ]
  },
  {
   "cell_type": "markdown",
   "id": "7231a8de",
   "metadata": {},
   "source": [
    "####  Segmentation based on Martial Status"
   ]
  },
  {
   "cell_type": "code",
   "execution_count": null,
   "id": "c673980a",
   "metadata": {},
   "outputs": [],
   "source": [
    "married_based= pd.pivot_table(data, values='ID',index=['Ever_Married'],columns=['Segmentation'],aggfunc=np.count_nonzero)\n",
    "\n",
    "married_based"
   ]
  },
  {
   "cell_type": "code",
   "execution_count": null,
   "id": "67791f76",
   "metadata": {},
   "outputs": [],
   "source": [
    "fig= px.histogram(data, x=\"Ever_Married\",color=\"Segmentation\",barmode=\"group\",template=\"presentation\",\n",
    "           width=1000,height=600, title= \"Segmentation based on Marital Status\")\n",
    "fig.update_layout(bargap=0.2)\n",
    "fig.show()"
   ]
  },
  {
   "cell_type": "markdown",
   "id": "caf5b8ad",
   "metadata": {},
   "source": [
    "#### Segmentation based on Graduated"
   ]
  },
  {
   "cell_type": "code",
   "execution_count": null,
   "id": "acda5eff",
   "metadata": {},
   "outputs": [],
   "source": [
    "grad_based= pd.pivot_table(data,values='ID',index=['Graduated'],columns=['Segmentation'],aggfunc=np.count_nonzero)\n",
    "\n",
    "grad_based"
   ]
  },
  {
   "cell_type": "code",
   "execution_count": null,
   "id": "643c8e16",
   "metadata": {},
   "outputs": [],
   "source": [
    "fig= px.histogram(data, x=\"Graduated\",color=\"Segmentation\",barmode=\"group\",template=\"presentation\",\n",
    "           width=1000,height=600, title= \"Customer Segmentation based on Education Level\")\n",
    "fig.update_layout(bargap=0.2)\n",
    "fig.show()"
   ]
  },
  {
   "cell_type": "markdown",
   "id": "4de9fee5",
   "metadata": {},
   "source": [
    "#### Segmentation based on Spending score"
   ]
  },
  {
   "cell_type": "code",
   "execution_count": null,
   "id": "ecd1a626",
   "metadata": {},
   "outputs": [],
   "source": [
    "spending_based= pd.pivot_table(data, values= 'ID',index=['Spending_Score'],columns=['Segmentation'],aggfunc=np.count_nonzero)\n",
    "\n",
    "spending_based"
   ]
  },
  {
   "cell_type": "code",
   "execution_count": null,
   "id": "f4df96ee",
   "metadata": {},
   "outputs": [],
   "source": [
    "fig= px.bar(data, x=\"Segmentation\",color=\"Spending_Score\", barmode=\"group\",template=\"presentation\",\n",
    "            title= \"Customer Segmentation based on Spending Score\")\n",
    "fig.update_layout(bargap=0.2)\n",
    "fig.show()"
   ]
  },
  {
   "cell_type": "markdown",
   "id": "5f9503bd",
   "metadata": {},
   "source": [
    "#### Segmentation based on Profession"
   ]
  },
  {
   "cell_type": "code",
   "execution_count": null,
   "id": "61332da4",
   "metadata": {},
   "outputs": [],
   "source": [
    "prof_based= pd.pivot_table(data, values= 'ID',index=['Profession'],columns=['Segmentation'],aggfunc=np.count_nonzero)\n",
    "\n",
    "prof_based"
   ]
  },
  {
   "cell_type": "code",
   "execution_count": null,
   "id": "3a4164b4",
   "metadata": {},
   "outputs": [],
   "source": [
    "fig= px.bar(data, x=\"Segmentation\",color=\"Profession\", barmode=\"group\",template=\"presentation\",\n",
    "            title= \" Segmentation based on Profession\")\n",
    "fig.update_layout(bargap=0.2)\n",
    "fig.show()"
   ]
  },
  {
   "cell_type": "markdown",
   "id": "c2cb9858",
   "metadata": {},
   "source": [
    "#### Segmentation based on Work Experience"
   ]
  },
  {
   "cell_type": "code",
   "execution_count": null,
   "id": "5af99edf",
   "metadata": {},
   "outputs": [],
   "source": [
    "work_based= pd.DataFrame(data.groupby('Segmentation')['Work_Experience'].mean())\n",
    "work_based"
   ]
  },
  {
   "cell_type": "code",
   "execution_count": null,
   "id": "19bdd0e9",
   "metadata": {},
   "outputs": [],
   "source": [
    "fig= px.bar(work_based, x= work_based['Work_Experience'].index, color= \"Work_Experience\", template=\"presentation\", title=\"Segmentation based on Work_Experience\")\n",
    "                 \n",
    "fig.update_layout(bargap=0.1)\n",
    "fig.show()"
   ]
  },
  {
   "cell_type": "markdown",
   "id": "cd546d83",
   "metadata": {},
   "source": [
    "#### Segmentation based o Family Size"
   ]
  },
  {
   "cell_type": "code",
   "execution_count": null,
   "id": "dcbbdc05",
   "metadata": {},
   "outputs": [],
   "source": [
    "family_based= pd.DataFrame(data.groupby('Segmentation')['Family_Size'].agg(pd.Series.mode))\n",
    "\n",
    "family_based"
   ]
  },
  {
   "cell_type": "code",
   "execution_count": null,
   "id": "6ad743b3",
   "metadata": {
    "scrolled": false
   },
   "outputs": [],
   "source": [
    "fig= px.bar(family_based, x= family_based['Family_Size'].index, color= \"Family_Size\", template=\"presentation\", title=\"Segmentation based on Family Size\")\n",
    "                 \n",
    "fig.show()"
   ]
  },
  {
   "cell_type": "markdown",
   "id": "5aa5a984",
   "metadata": {},
   "source": [
    "#### Segmentation based on Category"
   ]
  },
  {
   "cell_type": "code",
   "execution_count": null,
   "id": "6c0b822d",
   "metadata": {},
   "outputs": [],
   "source": [
    "var_based= pd.pivot_table(data, values= 'ID',index=['Category'],columns=['Segmentation'],aggfunc=np.count_nonzero)\n",
    "\n",
    "var_based"
   ]
  },
  {
   "cell_type": "code",
   "execution_count": null,
   "id": "83f4529b",
   "metadata": {},
   "outputs": [],
   "source": [
    "fig= px.bar(data, x=\"Segmentation\",color=\"Category\", barmode=\"group\",template=\"presentation\",\n",
    "            title= \" Segmentation based Category\")\n",
    "fig.update_layout(bargap=0.2)\n",
    "fig.show()"
   ]
  },
  {
   "cell_type": "markdown",
   "id": "8fddd294",
   "metadata": {},
   "source": [
    "#### Segmentation based on Age"
   ]
  },
  {
   "cell_type": "code",
   "execution_count": null,
   "id": "8c0285c8",
   "metadata": {},
   "outputs": [],
   "source": [
    "age_based= pd.DataFrame(data.groupby('Segmentation')['Age'].mean())\n",
    "\n",
    "age_based"
   ]
  },
  {
   "cell_type": "code",
   "execution_count": null,
   "id": "c9183378",
   "metadata": {},
   "outputs": [],
   "source": [
    "fig= px.bar(age_based, x= age_based['Age'].index, color= \"Age\", template=\"presentation\", title=\"Segmentation based on Age\")\n",
    "                 \n",
    "fig.show()"
   ]
  },
  {
   "cell_type": "code",
   "execution_count": null,
   "id": "6a08abac",
   "metadata": {},
   "outputs": [],
   "source": [
    "sns.pairplot(data =data[['Age','Graduated','Work_Experience','Family_Size','Segmentation']], hue='Segmentation', palette=[\"Red\",\"Green\",\"yellow\",\n",
    "                                                                                                     \"blue\"])\n",
    "plt.show()"
   ]
  },
  {
   "cell_type": "markdown",
   "id": "de3669b5",
   "metadata": {},
   "source": [
    "#### Spending score based on Gender"
   ]
  },
  {
   "cell_type": "code",
   "execution_count": null,
   "id": "58b1ce34",
   "metadata": {},
   "outputs": [],
   "source": [
    "fig, axes=plt.subplots(1,2)\n",
    "\n",
    "sns.countplot(data=data, x='Gender',ax= axes[0])\n",
    "\n",
    "sns.countplot(data=data, x='Gender',hue='Spending_Score',ax=axes[1])\n",
    "plt.show()"
   ]
  },
  {
   "cell_type": "markdown",
   "id": "190250ce",
   "metadata": {},
   "source": [
    "#### Spending Score Based on Profession"
   ]
  },
  {
   "cell_type": "code",
   "execution_count": null,
   "id": "aa8debd2",
   "metadata": {},
   "outputs": [],
   "source": [
    "sns.countplot(data=data, x='Profession',hue='Spending_Score')\n",
    "plt.show()"
   ]
  },
  {
   "cell_type": "markdown",
   "id": "1fb37bb5",
   "metadata": {},
   "source": [
    "####  Spending Score based on Family Size"
   ]
  },
  {
   "cell_type": "code",
   "execution_count": null,
   "id": "939e91b6",
   "metadata": {},
   "outputs": [],
   "source": [
    "sns.countplot(data= data, x='Family_Size',hue='Spending_Score')\n",
    "plt.show()"
   ]
  },
  {
   "cell_type": "markdown",
   "id": "c562a2d5",
   "metadata": {},
   "source": [
    "**Utilized Count plots to visualize the distribution of categorical features and their correlation with Segmentation**"
   ]
  },
  {
   "cell_type": "code",
   "execution_count": null,
   "id": "6756e55c",
   "metadata": {},
   "outputs": [],
   "source": [
    "features = ['Gender', 'Ever_Married', 'Profession', 'Spending_Score', 'Category']\n",
    "fig, axs = plt.subplots(len(features), 2, figsize=(15, 30))\n",
    "for i, col in enumerate(features):\n",
    "    # First count plot\n",
    "    sns.countplot(x=col, data=data, ax=axs[i, 0])\n",
    "    axs[i, 0].set_title(f'Count of {col}')\n",
    "    axs[i, 0].tick_params(axis='x', rotation=40)\n",
    "    \n",
    "    # Second count plot with hue\n",
    "    sns.countplot(x=col, hue='Segmentation', data=data, ax=axs[i, 1])\n",
    "    axs[i, 1].set_title(f'Count of {col} by Segmentation')\n",
    "    axs[i, 1].tick_params(axis='x', rotation=40)\n",
    "plt.tight_layout()\n",
    "plt.show()"
   ]
  },
  {
   "cell_type": "markdown",
   "id": "a8b4ae1c",
   "metadata": {},
   "source": [
    "**Here are some of the insights derived from the above plots**\n",
    "\n",
    "**Gender**\n",
    "- Male population is slightly higher than female\n",
    "\n",
    "**Ever_Married**\n",
    "- Count of married customers are higher \n",
    "- Segment D seems to have more number of unmarried customers\n",
    "- Segment C and B have more number of married customers \n"
   ]
  },
  {
   "cell_type": "markdown",
   "id": "03174a81",
   "metadata": {},
   "source": [
    " #### Graduated based on Profession"
   ]
  },
  {
   "cell_type": "code",
   "execution_count": null,
   "id": "ae127830",
   "metadata": {},
   "outputs": [],
   "source": [
    "sns.countplot(data=data,x='Profession', hue='Graduated')\n",
    "plt.show()"
   ]
  },
  {
   "cell_type": "markdown",
   "id": "fe7b583b",
   "metadata": {},
   "source": [
    "## Feature Engineering"
   ]
  },
  {
   "cell_type": "markdown",
   "id": "87b15ef7",
   "metadata": {},
   "source": [
    "Feature engineering is the process of transforming raw data into features that are suitable for machine learning models. Its main aim is to improve model accuracy by providing more meaningful and relevant information. This includes feature creation and feature transformation:\n",
    "\n",
    "-\t  Feature creation: is the process of generating new features based on domain know knowledge and helps improve model performance, increase model robustness, improve model interpretability, and increase model flexibility \n",
    "\n",
    "-\t Feature transformation: is the process of transforming the features into suitable representations so that the machine learning can learn effectively from the data. Feature transformation improves model performance, increase model robustness, improve computational efficiency and improve model interpretability. This includes :\n",
    "\n",
    "** Normalization: rescaling the features to have similar range to prevent some feature from dominating others such as 0 and 1 \n",
    "\n",
    "** Scaling: is used to transform numerical variables to have similar scale with a mean 0 and standard deviation 1\n",
    "\n",
    "** Encoding:  this is transforming categorical features into numerical representations. Example label encoding, ordinal encoding and one-hot encoding.\n",
    " \n",
    "\n",
    "\n"
   ]
  },
  {
   "cell_type": "code",
   "execution_count": null,
   "id": "0f58d46f",
   "metadata": {},
   "outputs": [],
   "source": []
  },
  {
   "cell_type": "markdown",
   "id": "b2ce6154",
   "metadata": {},
   "source": [
    "###  Ordinal Encoding"
   ]
  },
  {
   "cell_type": "code",
   "execution_count": null,
   "id": "3d153dde",
   "metadata": {},
   "outputs": [],
   "source": [
    " df_customer= pd.DataFrame(data)"
   ]
  },
  {
   "cell_type": "code",
   "execution_count": null,
   "id": "79434f26",
   "metadata": {},
   "outputs": [],
   "source": [
    "df_customer.head()"
   ]
  },
  {
   "cell_type": "code",
   "execution_count": null,
   "id": "37da8a7f",
   "metadata": {},
   "outputs": [],
   "source": [
    "# ordinal Endcoding for spending score\n",
    "\n",
    "encoder =OrdinalEncoder(categories=[['Low', 'Average','High']])\n",
    "df_customer['Spending_Score'] = encoder.fit_transform(df_customer[['Spending_Score']])\n",
    "df_customer.head()"
   ]
  },
  {
   "cell_type": "markdown",
   "id": "1794d110",
   "metadata": {},
   "source": [
    "### Label Encoding"
   ]
  },
  {
   "cell_type": "code",
   "execution_count": null,
   "id": "b546cdca",
   "metadata": {},
   "outputs": [],
   "source": [
    "df_customer['Segmentation'].unique()"
   ]
  },
  {
   "cell_type": "code",
   "execution_count": null,
   "id": "cd9d56f9",
   "metadata": {},
   "outputs": [],
   "source": [
    "# Label Encoding  for the target varialbe 'Segmentation'\n",
    "\n",
    "df_customer[['Segmentation']]= df_customer[['Segmentation']].apply(LabelEncoder().fit_transform)\n",
    "\n",
    "df_customer.head()"
   ]
  },
  {
   "cell_type": "code",
   "execution_count": null,
   "id": "c7e18b62",
   "metadata": {},
   "outputs": [],
   "source": [
    "# Label encoder on profession  and Category features\n",
    "\n",
    "df_customer[['Profession']]= df_customer[['Profession']].apply(LabelEncoder().fit_transform)\n",
    "\n",
    "df_customer[['Category']]= df_customer[['Category']].apply(LabelEncoder().fit_transform)\n",
    "\n",
    "\n",
    "df_customer.head()"
   ]
  },
  {
   "cell_type": "code",
   "execution_count": null,
   "id": "d04af861",
   "metadata": {
    "scrolled": true
   },
   "outputs": [],
   "source": [
    "# conver categorical variables [ Gender, Graduated , Ever_Married ] using predefined mapping to Numerical values \n",
    "\n",
    "df_customer['Gender']= df_customer['Gender'].map({'Male':0, 'Female':1})\n",
    "\n",
    "df_customer['Graduated']= df_customer['Graduated'].map({'No':0, 'Yes':1})\n",
    "\n",
    "df_customer['Ever_Married']= df_customer['Ever_Married'].map({'No':0, 'Yes':1})\n",
    "\n",
    "\n",
    "\n"
   ]
  },
  {
   "cell_type": "code",
   "execution_count": null,
   "id": "9b9c2b1c",
   "metadata": {},
   "outputs": [],
   "source": [
    "df_customer.head()"
   ]
  },
  {
   "cell_type": "markdown",
   "id": "0b54d069",
   "metadata": {},
   "source": [
    " ### Feature selection"
   ]
  },
  {
   "cell_type": "code",
   "execution_count": null,
   "id": "6cb4bc8f",
   "metadata": {},
   "outputs": [],
   "source": []
  },
  {
   "cell_type": "code",
   "execution_count": null,
   "id": "27b8e85d",
   "metadata": {},
   "outputs": [],
   "source": [
    "# let's check the correlation matrix to visualize how much correltion exist between variables\n",
    "\n",
    "matrix= df_customer.corr().round(2)\n",
    "sns.heatmap(matrix,annot=True, cmap='vlag')\n",
    "plt.show()\n",
    "\n",
    "    \n",
    "\n"
   ]
  },
  {
   "cell_type": "code",
   "execution_count": null,
   "id": "5d07e273",
   "metadata": {},
   "outputs": [],
   "source": [
    "x= df_customer.drop('Segmentation', axis=1)\n",
    "y= df_customer['Segmentation']"
   ]
  },
  {
   "cell_type": "code",
   "execution_count": null,
   "id": "61856d2e",
   "metadata": {},
   "outputs": [],
   "source": [
    "# Let’s identify the columns that significantly influence the segmentation column (the target variable) using \n",
    "# mutual information tool from scikit learn package. By checking the values, we will drop columns with little \n",
    "# to no influence\n",
    "\n",
    "importances= mutual_info_classif(x,y)\n",
    "feature_importances= pd.Series(importances, df_customer.columns[0:len(df_customer.columns)-1])\n",
    "feature_importances.plot(kind='barh',color='teal')\n",
    "plt.show()"
   ]
  },
  {
   "cell_type": "markdown",
   "id": "4edbe2d3",
   "metadata": {},
   "source": [
    " From the above feature important graph, we learn that gender doe does not have any influence on the target variable so let drop it. We need also to drop the ID columns as it is not relevant to our analysis.\n",
    " "
   ]
  },
  {
   "cell_type": "markdown",
   "id": "fe6d66b1",
   "metadata": {},
   "source": [
    "###  Splitting the dataset into training and testing "
   ]
  },
  {
   "cell_type": "code",
   "execution_count": null,
   "id": "abda4f02",
   "metadata": {},
   "outputs": [],
   "source": [
    "x= df_customer.drop(['ID','Segmentation', 'Gender'], axis=1)\n",
    "y= df_customer['Segmentation']"
   ]
  },
  {
   "cell_type": "code",
   "execution_count": null,
   "id": "68d7f1df",
   "metadata": {},
   "outputs": [],
   "source": [
    "x.head()"
   ]
  },
  {
   "cell_type": "code",
   "execution_count": null,
   "id": "74c8e480",
   "metadata": {},
   "outputs": [],
   "source": [
    "y.head()"
   ]
  },
  {
   "cell_type": "code",
   "execution_count": null,
   "id": "97ee4eaf",
   "metadata": {},
   "outputs": [],
   "source": [
    "# split the data into 80% training and 20% testing with random state of 42 to guarantees reproducibility\n",
    "\n",
    "x_train,x_test, y_train,y_test= train_test_split(x,y,test_size=0.2, random_state=42)"
   ]
  },
  {
   "cell_type": "markdown",
   "id": "9b46e85c",
   "metadata": {},
   "source": [
    "### Feature Scaling"
   ]
  },
  {
   "cell_type": "markdown",
   "id": "d8ed26ed",
   "metadata": {},
   "source": [
    "Many machine learning algorithms like logistic regression, KNN, random forest, etc. require data scaling to produce good results.  For this reason, I will use standard scaler to standardize the features.  standard scaler transforms the distribution of each feature to have mean of zero and standard deviation of one. It standardizes features by subtracting the mean value from the feature and dividing the result by the feature standard deviation. This ensures that all features are on the same scale, preventing any single feature from dominating the learning process due to its large magnitude.\n",
    "\n",
    "Z=x−μ/σ\n",
    "\n",
    "were \n",
    "- x represents the original feature value, \n",
    "- μ is the mean of the feature, \n",
    "- σ is the standard deviation, and \n",
    "- z is the standardized feature value\n",
    "\n",
    "\n"
   ]
  },
  {
   "cell_type": "code",
   "execution_count": null,
   "id": "0f32b727",
   "metadata": {},
   "outputs": [],
   "source": [
    "# Apply standardization using Standard Scaler \n",
    "\n",
    "scaler = StandardScaler()\n",
    "\n",
    "x_train= scaler.fit_transform(x_train)\n",
    "\n",
    "x_test= scaler.transform(x_test)"
   ]
  },
  {
   "cell_type": "code",
   "execution_count": null,
   "id": "0db89c3f",
   "metadata": {
    "scrolled": true
   },
   "outputs": [],
   "source": [
    "print(x_train)"
   ]
  },
  {
   "cell_type": "markdown",
   "id": "439d8088",
   "metadata": {},
   "source": [
    "##  Model Development and Prediction"
   ]
  },
  {
   "cell_type": "markdown",
   "id": "0e920cd4",
   "metadata": {},
   "source": [
    "### Logistic Regression"
   ]
  },
  {
   "cell_type": "code",
   "execution_count": null,
   "id": "a3e940c5",
   "metadata": {},
   "outputs": [],
   "source": [
    "# Instantiate the model \n",
    "\n",
    "logreg= LogisticRegression( max_iter=6000, multi_class='ovr',solver='lbfgs', random_state=42)\n",
    "\n",
    "# fit the model with data\n",
    "\n",
    "logreg.fit(x_train,y_train)\n",
    "\n",
    "y_pred_lr= logreg.predict(x_test)\n"
   ]
  },
  {
   "cell_type": "markdown",
   "id": "5dbdaf9b",
   "metadata": {},
   "source": [
    "#### Model Evaluation"
   ]
  },
  {
   "cell_type": "code",
   "execution_count": null,
   "id": "d1192629",
   "metadata": {},
   "outputs": [],
   "source": [
    "\n",
    "LRACC= accuracy_score(y_pred_lr,y_test)\n",
    "\n",
    "print(f\" The accuracy score for Logistic regression is {(accuracy_score(y_test,y_pred_lr)*100).round(2)} %\")\n",
    "\n",
    "\n",
    "# Classification report\n",
    "\n",
    "print(classification_report(y_test,y_pred_lr))\n",
    "\n",
    "\n",
    "\n",
    "#  Confusion Matrix\n",
    "\n",
    "cm =confusion_matrix(y_test,y_pred_lr)\n",
    "\n",
    "print(cm)\n",
    "\n",
    "# visualizing confusion matrix usig heatmap\n",
    "\n",
    "ConfusionMatrixDisplay(cm).plot()\n",
    "plt.tight_layout()\n",
    "plt.title('confusion Matrix')\n",
    "\n",
    "plt.show()\n"
   ]
  },
  {
   "cell_type": "markdown",
   "id": "9ce4f871",
   "metadata": {},
   "source": [
    "### K-Nearest Neighbor(KNN)"
   ]
  },
  {
   "cell_type": "markdown",
   "id": "7ce0dcb8",
   "metadata": {},
   "source": [
    "K-nearest neighbor or K-NN   is used to solve the classification model problem, by creating an imaginary boundary to classify the data.  Lager k means smother curves of separation resulting less complex model whereas smaller K tends to overfit the data and leads to complex modes.\n"
   ]
  },
  {
   "cell_type": "code",
   "execution_count": null,
   "id": "7d1dba77",
   "metadata": {},
   "outputs": [],
   "source": [
    " # lets find he best value of K uisng cross validation\n",
    "    \n",
    "k_values=  [i for i in range(1,50)]  \n",
    "scores= []\n",
    "for k in k_values:\n",
    "    knn= KNeighborsClassifier(n_neighbors=k)\n",
    "    score= cross_val_score(knn,x,y,cv=5)\n",
    "    scores.append(np.mean(score))\n",
    "    \n",
    "    \n",
    "sns.lineplot(x= k_values,y= scores, marker ='o')  \n",
    "plt.xlabel('K Values')\n",
    "plt.ylabel('Accuracy Score')"
   ]
  },
  {
   "cell_type": "code",
   "execution_count": null,
   "id": "3e2ad863",
   "metadata": {},
   "outputs": [],
   "source": []
  },
  {
   "cell_type": "code",
   "execution_count": null,
   "id": "cdfeb889",
   "metadata": {},
   "outputs": [],
   "source": [
    "# Instantiate the model \n",
    "\n",
    "knn= KNeighborsClassifier(n_neighbors= 21)\n",
    "\n",
    "\n",
    "# fit the model with the data\n",
    "\n",
    "knn.fit(x_train, y_train)\n",
    "\n",
    "y_pred_knn = knn.predict(x_test)"
   ]
  },
  {
   "cell_type": "markdown",
   "id": "b843c471",
   "metadata": {},
   "source": [
    "##### Model Evaluation"
   ]
  },
  {
   "cell_type": "code",
   "execution_count": null,
   "id": "a9e9f16f",
   "metadata": {},
   "outputs": [],
   "source": [
    "accuracy =accuracy_score(y_test, y_pred_knn)\n",
    "\n",
    "\n",
    "print(f\" The accuracy score for K-NN  is {(accuracy_score(y_test,y_pred_knn)*100).round(2)} %\")"
   ]
  },
  {
   "cell_type": "code",
   "execution_count": null,
   "id": "c32b18fb",
   "metadata": {},
   "outputs": [],
   "source": [
    "# Classification report\n",
    "\n",
    "print(classification_report(y_test,y_pred_knn))\n",
    "\n",
    "\n",
    "\n",
    "#  Confusion Matrix\n",
    "\n",
    "cm =confusion_matrix(y_test,y_pred_knn)\n",
    "\n",
    "print(cm)\n",
    "\n",
    "# visualizing confusion matrix usig heatmap\n",
    "\n",
    "ConfusionMatrixDisplay(cm).plot()\n",
    "plt.tight_layout()\n",
    "plt.title('confusion Matrix')\n",
    "\n",
    "plt.show()\n"
   ]
  },
  {
   "cell_type": "markdown",
   "id": "f7f62682",
   "metadata": {},
   "source": [
    "### Support Vector Machine (SVM)"
   ]
  },
  {
   "cell_type": "markdown",
   "id": "89af3aec",
   "metadata": {},
   "source": [
    "Support vector machine (SVM) is a powerful machine learning algorithm used for linear or nonlinear classification, regression and for outlier detection.  It is adaptable and efficient in many applications as it can handle high dimensional data and nonlinear relationships.  The main aim of the SVM algorithm is to find optimal hyperplane in an N-dimensional space that can separate the data points in different classes in the feature space."
   ]
  },
  {
   "cell_type": "code",
   "execution_count": null,
   "id": "6171198c",
   "metadata": {},
   "outputs": [],
   "source": [
    " # hyper parametre tuning\n",
    "    \n",
    "#estimator= SVC()   \n",
    "#param_grid= {\"c\":[1,3,5,7,9],\"kernel\":[\"linear\",\"polynomial\",\"rbf\",\"sigmoid\"]}\n",
    "#model1= GridSearchCV(estimator, param_grid,cv=5, scoring=\"accuracy\")\n",
    "#model1.fit(x_train,y_train)\n",
    "#model1.best_params_\n",
    "                     "
   ]
  },
  {
   "cell_type": "code",
   "execution_count": null,
   "id": "16314276",
   "metadata": {},
   "outputs": [],
   "source": []
  },
  {
   "cell_type": "code",
   "execution_count": null,
   "id": "1d16a25f",
   "metadata": {},
   "outputs": [],
   "source": [
    "#Instantiate the model\n",
    "\n",
    "svm= SVC(C=2, kernel='rbf')\n",
    "svm.fit(x_train,y_train)\n",
    "\n",
    "y_pred_svm= svm.predict(x_test)"
   ]
  },
  {
   "cell_type": "markdown",
   "id": "d88b2ed1",
   "metadata": {},
   "source": [
    "#### Model Evaluation"
   ]
  },
  {
   "cell_type": "code",
   "execution_count": null,
   "id": "3e8b3cc0",
   "metadata": {},
   "outputs": [],
   "source": [
    "accuracy =accuracy_score(y_test, y_pred_svm)\n",
    "\n",
    "\n",
    "print(f\" The accuracy score for SVM  is {(accuracy_score(y_test,y_pred_svm)*100).round(2)} %\")"
   ]
  },
  {
   "cell_type": "code",
   "execution_count": null,
   "id": "b01610d4",
   "metadata": {},
   "outputs": [],
   "source": [
    "# Classification report\n",
    "\n",
    "print(classification_report(y_test,y_pred_svm))\n",
    "\n",
    "\n",
    "\n",
    "#  Confusion Matrix\n",
    "\n",
    "cm =confusion_matrix(y_test,y_pred_svm)\n",
    "\n",
    "print(cm)\n",
    "\n",
    "# visualizing confusion matrix usig heatmap\n",
    "\n",
    "ConfusionMatrixDisplay(cm).plot()\n",
    "plt.tight_layout()\n",
    "plt.title('confusion Matrix')\n",
    "\n",
    "plt.show()\n"
   ]
  },
  {
   "cell_type": "markdown",
   "id": "5155c4d1",
   "metadata": {},
   "source": [
    "### Decision Tree"
   ]
  },
  {
   "cell_type": "markdown",
   "id": "0e0e97aa",
   "metadata": {},
   "source": [
    "decision trees combine multiple points and weigh degrees of uncertainty to determine the best approach to a complex decision.  It allows us to break down information into multiple variables to arrive at a the best single one to the problem. It also helps companies to create informed opinions that facilitate better decision making. \n",
    "\n",
    "Random forest algorithm differ from decision trees in their ability to form several decisions in order  to reach  a final  decision, it goes a step  further and don’t rely on a single decision like decision tree. \n"
   ]
  },
  {
   "cell_type": "markdown",
   "id": "f164c059",
   "metadata": {},
   "source": [
    "#### Hyper parametre Tuning"
   ]
  },
  {
   "cell_type": "code",
   "execution_count": null,
   "id": "780800c5",
   "metadata": {},
   "outputs": [],
   "source": [
    "   \n",
    "estimator= DecisionTreeClassifier()\n",
    "param_grid= {'criterion': ['gini','entropy']}\n",
    "model=GridSearchCV(estimator,param_grid,cv=5, scoring='accuracy')\n",
    "model.fit(x_train,y_train)\n",
    "model.best_params_\n"
   ]
  },
  {
   "cell_type": "code",
   "execution_count": null,
   "id": "4f734649",
   "metadata": {},
   "outputs": [],
   "source": [
    "# Instantiate the model\n",
    "\n",
    "dt= DecisionTreeClassifier(criterion='gini')\n",
    "\n",
    "\n",
    "# fit the model with  data \n",
    "\n",
    "dt.fit(x_train,y_train)\n",
    "y_pred_dt= dt.predict(x_test)"
   ]
  },
  {
   "cell_type": "markdown",
   "id": "4f950c9c",
   "metadata": {},
   "source": [
    "#### Model Evaluation"
   ]
  },
  {
   "cell_type": "code",
   "execution_count": null,
   "id": "c60c418d",
   "metadata": {},
   "outputs": [],
   "source": [
    "accuracy =accuracy_score(y_test, y_pred_dt)\n",
    "\n",
    "print(f\" The accuracy score for Decision tree  is {(accuracy_score(y_test,y_pred_dt)*100).round(2)} %\")\n"
   ]
  },
  {
   "cell_type": "code",
   "execution_count": null,
   "id": "381ff798",
   "metadata": {},
   "outputs": [],
   "source": [
    "# Classification report\n",
    "\n",
    "print(classification_report(y_test,y_pred_dt))\n",
    "\n",
    "\n",
    "\n",
    "#  Confusion Matrix\n",
    "\n",
    "cm =confusion_matrix(y_test,y_pred_dt)\n",
    "\n",
    "print(cm)\n",
    "\n",
    "# visualizing confusion matrix usig heatmap\n",
    "\n",
    "ConfusionMatrixDisplay(cm).plot()\n",
    "plt.tight_layout()\n",
    "plt.title('confusion Matrix')\n",
    "\n",
    "plt.show()\n"
   ]
  },
  {
   "cell_type": "markdown",
   "id": "641531f5",
   "metadata": {},
   "source": [
    "### Random Forest"
   ]
  },
  {
   "cell_type": "markdown",
   "id": "1b15cbd9",
   "metadata": {},
   "source": [
    "#### Hyper parameter Tuning"
   ]
  },
  {
   "cell_type": "code",
   "execution_count": null,
   "id": "0a5df7cc",
   "metadata": {},
   "outputs": [],
   "source": [
    "estimator= RandomForestClassifier( random_state=42)\n",
    "param_grid= {'n_estimators': list(range(1,50))}\n",
    "model=GridSearchCV(estimator,param_grid,cv=5, scoring='accuracy')\n",
    "model.fit(x_train,y_train)\n",
    "model.best_params_\n"
   ]
  },
  {
   "cell_type": "code",
   "execution_count": null,
   "id": "67e944b3",
   "metadata": {},
   "outputs": [],
   "source": [
    "# Instantiate the model\n",
    "\n",
    "rf= RandomForestClassifier(n_estimators= 41)\n",
    "\n",
    "\n",
    "# fit the model with  data \n",
    "\n",
    "rf.fit(x_train,y_train)\n",
    "y_pred_rf= rf.predict(x_test)"
   ]
  },
  {
   "cell_type": "markdown",
   "id": "fbf0b522",
   "metadata": {},
   "source": [
    "#### Model Evaluation"
   ]
  },
  {
   "cell_type": "code",
   "execution_count": null,
   "id": "fc4484a4",
   "metadata": {},
   "outputs": [],
   "source": [
    "accuracy =accuracy_score(y_test, y_pred_rf)\n",
    "\n",
    "\n",
    "print(f\" The accuracy score for Random Forest  is {(accuracy_score(y_test,y_pred_rf)*100).round(2)} %\\n\")\n",
    "\n",
    "\n",
    "\n",
    "\n",
    "# Classification report\n",
    "\n",
    "print(classification_report(y_test,y_pred_rf) )\n",
    "\n",
    "\n",
    "\n",
    "#  Confusion Matrix\n",
    "\n",
    "cm =confusion_matrix(y_test,y_pred_rf)\n",
    "\n",
    "print(cm)\n",
    "\n",
    "# visualizing confusion matrix usig heatmap\n",
    "\n",
    "ConfusionMatrixDisplay(cm).plot()\n",
    "plt.tight_layout()\n",
    "plt.title('confusion Matrix')\n",
    "\n",
    "plt.show()\n",
    "\n",
    "\n",
    "\n"
   ]
  },
  {
   "cell_type": "markdown",
   "id": "a8d50a06",
   "metadata": {},
   "source": [
    "#### Summary"
   ]
  },
  {
   "cell_type": "markdown",
   "id": "e4f76764",
   "metadata": {},
   "source": [
    " According to the performance metrics  support vector machine achieve the highest accuracy which is 47.64% whereas Decision tree achieve the lowest accuracy which is 37.4%\n",
    " \n",
    "- \tLogistic regression achieved an accuracy of 44.55% \n",
    "\n",
    "-   K-Nearest Neighbors (KNN) achieved an accuracy of 46%\n",
    "- \tSupport vector machine (SVM) achieved an accuracy of 47.64%\n",
    "- \tDecision tree achieved an accuracy of 37.4%\n",
    "- \tRandom Forest achieved an accuracy of 41.75%\n"
   ]
  },
  {
   "cell_type": "markdown",
   "id": "cbc34398",
   "metadata": {},
   "source": [
    "**I chose Random Forest for predicting customer behavior despite it accuracy of 41% due to several key points**\n",
    "\n",
    " •\t**Robustness**: Random Forest is known for its robustness to overfitting, especially when dealing with high-dimensional data. Its ensemble nature helps to reduce variance, making it more reliable in diverse datasets.\n",
    " \n",
    "•\t**Feature Importance**: Random Forest provides insights into feature importance, allowing you to understand which variables significantly influence customer behavior. This can be crucial for strategic decision-making.\n",
    "\n",
    "•\t**Handling Missing Data**: Random Forest can handle missing values more effectively than some other algorithms. It can maintain accuracy even when a portion of the data is missing, which is often the case in customer datasets.\n",
    "\n",
    "•\t**Lower Sensitivity to Outliers**: Random Forest is less sensitive to outliers compared to models like Logistic Regression and Decision Trees, making it a better choice for real-world datasets that may contain noise.\n",
    "\n",
    "•\t**Ensemble Learning**: The ensemble approach of Random Forest combines the predictions of multiple decision trees, leading to better generalization on unseen data compared to single models.\n",
    "\n",
    "•\t**Tuning Potential**: While the initial accuracy might not be the highest, Random Forest has various hyperparameters that can be tuned (e.g., number of trees, depth of trees) to potentially improve performance further.\n",
    "\n"
   ]
  },
  {
   "cell_type": "markdown",
   "id": "4ee6ea38",
   "metadata": {},
   "source": [
    "**Hyperparameter Tuning - GridSearchCV** \n",
    "\n",
    "First, let’s use GridSearchCV to obtain the best parameters for the model. For that, we will pass RandomFoestClassifier() instance to the model and then fit the GridSearchCV using the training data to find the best parameters."
   ]
  },
  {
   "cell_type": "code",
   "execution_count": null,
   "id": "dc495424",
   "metadata": {},
   "outputs": [],
   "source": [
    "rf = RandomForestClassifier()\n",
    "param_grid = {\n",
    "    'n_estimators': [100, 200, 300],\n",
    "    'max_depth': [None, 10, 20, 30],\n",
    "    'min_samples_split': [2, 5, 10],\n",
    "    'min_samples_leaf': [1, 2, 4]\n",
    "}\n",
    "\n",
    "\n"
   ]
  },
  {
   "cell_type": "code",
   "execution_count": null,
   "id": "eeefb37d",
   "metadata": {},
   "outputs": [],
   "source": [
    "# set up the gird search \n",
    "grid_search = GridSearchCV(estimator=rf, param_grid=param_grid, cv=5, scoring='accuracy')\n",
    "\n",
    "# fit the model\n",
    "grid_search.fit(x_train, y_train)\n",
    "\n",
    "# Get the best parameters\n",
    "best_params = grid_search.best_params_\n",
    "best_estimator = grid_search.best_estimator_\n"
   ]
  },
  {
   "cell_type": "code",
   "execution_count": null,
   "id": "dd586c0f",
   "metadata": {},
   "outputs": [],
   "source": [
    "print(\"Best Hyperparameters:\", best_params)"
   ]
  },
  {
   "cell_type": "code",
   "execution_count": null,
   "id": "a11cfa35",
   "metadata": {},
   "outputs": [],
   "source": [
    "# Make predictions on the test set\n",
    "\n",
    "y_pred = best_estimator.predict(x_test)\n"
   ]
  },
  {
   "cell_type": "code",
   "execution_count": null,
   "id": "bbf6a333",
   "metadata": {},
   "outputs": [],
   "source": [
    "# Evaluate the model's performance\n",
    "accuracy = accuracy_score(y_test, y_pred)\n",
    "print(f'Accuracy: {accuracy:.2f}')\n"
   ]
  },
  {
   "cell_type": "code",
   "execution_count": null,
   "id": "7aec3cce",
   "metadata": {
    "scrolled": true
   },
   "outputs": [],
   "source": [
    "# Confusion Matrix\n",
    "cm = confusion_matrix(y_test, y_pred)\n",
    "plt.figure(figsize=(10, 7))\n",
    "sns.heatmap(cm, annot=True, fmt='d', cmap='Blues')\n",
    "plt.ylabel('Actual')\n",
    "plt.xlabel('Predicted')\n",
    "plt.title('Confusion Matrix')\n",
    "plt.show()\n"
   ]
  },
  {
   "cell_type": "code",
   "execution_count": null,
   "id": "c0a97f42",
   "metadata": {},
   "outputs": [],
   "source": [
    "# Classification Report\n",
    "print(classification_report(y_test, y_pred))"
   ]
  },
  {
   "cell_type": "markdown",
   "id": "38757821",
   "metadata": {},
   "source": [
    "**Interpretation of the performance metrics** \n",
    "\n",
    "**Confusion Matrix**\n",
    "\n",
    "1\t**True Positives (TP)**\n",
    "\n",
    "• Segment A: 252 instances were correctly predicted as A.\n",
    "\n",
    "• Segment B: 130 instances were correctly predicted as B.\n",
    "\n",
    "• Segment C: 256 instances were correctly predicted as C.\n",
    "\n",
    "• Segment D: 396 instances were correctly predicted as D.\n",
    "\n",
    "2. **False Negatives (FN)**\n",
    "\n",
    "•\tFor A: 88 instances were misclassified as B, 95 as C, and 149 as D. Total FN for A = 88 + 95 + 149 = 332.\n",
    "\n",
    "•\tFor B: 151 instances were misclassified as A, 126 as C, and 83 as D. Total FN for B = 151 + 126 + 83 = 360.\n",
    "\n",
    "•\tFor C: 75 instances were misclassified as A, 81 as B, and 60 as D. Total FN for C = 75 + 81 + 60 = 216.\n",
    "\n",
    "•\tFor D: 130 instances were misclassified as A, 39 as B, and 28 as C. Total FN for D = 130 + 39 + 28 = 197\n",
    "\n",
    "3.**False Positives (FP)**\n",
    "\n",
    "•\tFor A: 151 instances of B, 75 instances of C, and 130 instances of D were incorrectly predicted as A. Total FP for A = 151 + 75 + 130 = 356.\n",
    "•\tFor B: 88 instances of A, 81 instances of C, and 39 instances of D were incorrectly predicted as B. Total FP for B = 88 + 81 + 39 = 208.\n",
    "•\tFor C: 95 instances of A, 126 instances of B, and 28 instances of D were incorrectly predicted as C. Total FP for C = 95 + 126 + 28 = 249.\n",
    "•\tFor D: 149 instances of A, 83 instances of B, and 60 instances of C were incorrectly predicted as D. Total FP for D = 149 + 83 + 60 = 292.\n",
    "\n",
    "\n",
    "**Summary of Findings**\n",
    "\n",
    "•**High True Positives**: Segments C and D show strong identification with 256 and 396 correct predictions, indicating good model performance for these segments.\n",
    "\n",
    "•**False Negatives**: Segments A and B have substantial false negatives, particularly A with 332 misclassified instances, suggesting that the model struggles with these segments.\n",
    "\n",
    "•**False Positives**: The model also misclassifies instances across segments, notably segment A having 356 instances incorrectly predicted from other segments.\n",
    "\n",
    "\n"
   ]
  },
  {
   "cell_type": "markdown",
   "id": "ca4c9754",
   "metadata": {},
   "source": [
    "**Recommendations for Improvement**\n",
    "\n",
    "1.**Feature Engineering**: Examine and possibly refine features to improve model performance, particularly for segments A and B.\n",
    "\n",
    "2.**Hyperparameter Tuning**: Explore different hyperparameter settings for the Random Forest model to find an optimal configuration.\n",
    "\n",
    "3.**Class Imbalance**: Check if any segments are underrepresented and consider techniques like oversampling or under sampling\n"
   ]
  },
  {
   "cell_type": "code",
   "execution_count": null,
   "id": "24db278d",
   "metadata": {},
   "outputs": [],
   "source": []
  }
 ],
 "metadata": {
  "kernelspec": {
   "display_name": "Python 3 (ipykernel)",
   "language": "python",
   "name": "python3"
  },
  "language_info": {
   "codemirror_mode": {
    "name": "ipython",
    "version": 3
   },
   "file_extension": ".py",
   "mimetype": "text/x-python",
   "name": "python",
   "nbconvert_exporter": "python",
   "pygments_lexer": "ipython3",
   "version": "3.11.3"
  },
  "toc": {
   "base_numbering": 1,
   "nav_menu": {},
   "number_sections": true,
   "sideBar": true,
   "skip_h1_title": true,
   "title_cell": "Table of Contents",
   "title_sidebar": "Contents",
   "toc_cell": false,
   "toc_position": {
    "height": "calc(100% - 180px)",
    "left": "10px",
    "top": "150px",
    "width": "264.625px"
   },
   "toc_section_display": true,
   "toc_window_display": true
  }
 },
 "nbformat": 4,
 "nbformat_minor": 5
}
